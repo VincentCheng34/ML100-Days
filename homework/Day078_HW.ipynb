{
 "cells": [
  {
   "cell_type": "markdown",
   "metadata": {},
   "source": [
    "## Work\n",
    "1. 請嘗試將 preproc_x 替換成以每筆資料的 min/max 進行標準化至 -1 ~ 1 間，再進行訓練\n",
    "2. 請嘗試將 mlp 疊更深 (e.g 5~10 層)，進行訓練後觀察 learning curve 的走勢\n",
    "3. (optional) 請改用 GPU 進行訓練 (如果你有 GPU 的話)，比較使用 CPU 與 GPU 的訓練速度"
   ]
  },
  {
   "cell_type": "code",
   "execution_count": 1,
   "metadata": {},
   "outputs": [
    {
     "name": "stdout",
     "output_type": "stream",
     "text": [
      "/bin/sh: nvidia-smi: command not found\r\n"
     ]
    }
   ],
   "source": [
    "## 確認硬體資源\n",
    "!nvidia-smi"
   ]
  },
  {
   "cell_type": "code",
   "execution_count": 2,
   "metadata": {},
   "outputs": [
    {
     "name": "stderr",
     "output_type": "stream",
     "text": [
      "Using TensorFlow backend.\n"
     ]
    }
   ],
   "source": [
    "import os\n",
    "import keras\n",
    "\n",
    "# Disable GPU\n",
    "os.environ[\"CUDA_VISIBLE_DEVICES\"] = \"\""
   ]
  },
  {
   "cell_type": "code",
   "execution_count": 3,
   "metadata": {},
   "outputs": [],
   "source": [
    "train, test = keras.datasets.cifar10.load_data()"
   ]
  },
  {
   "cell_type": "code",
   "execution_count": 4,
   "metadata": {},
   "outputs": [],
   "source": [
    "## 資料前處理\n",
    "def preproc_x(x, flatten=True):\n",
    "    x = x / 255.\n",
    "    x = (x - 0.5) * 2.\n",
    "    if flatten:\n",
    "        x = x.reshape((len(x), -1))\n",
    "    return x\n",
    "\n",
    "def preproc_y(y, num_classes=10):\n",
    "    if y.shape[-1] == 1:\n",
    "        y = keras.utils.to_categorical(y, num_classes)\n",
    "    return y   "
   ]
  },
  {
   "cell_type": "code",
   "execution_count": 5,
   "metadata": {},
   "outputs": [],
   "source": [
    "x_train, y_train = train\n",
    "x_test, y_test = test\n",
    "\n",
    "# Preproc the inputs\n",
    "x_train = preproc_x(x_train)\n",
    "x_test = preproc_x(x_test)\n",
    "\n",
    "# Preprc the outputs\n",
    "y_train = preproc_y(y_train)\n",
    "y_test = preproc_y(y_test)"
   ]
  },
  {
   "cell_type": "code",
   "execution_count": 6,
   "metadata": {},
   "outputs": [
    {
     "name": "stdout",
     "output_type": "stream",
     "text": [
      "WARNING:tensorflow:From /usr/local/lib/python3.7/site-packages/tensorflow/python/framework/op_def_library.py:263: colocate_with (from tensorflow.python.framework.ops) is deprecated and will be removed in a future version.\n",
      "Instructions for updating:\n",
      "Colocations handled automatically by placer.\n",
      "_________________________________________________________________\n",
      "Layer (type)                 Output Shape              Param #   \n",
      "=================================================================\n",
      "input_1 (InputLayer)         (None, 3072)              0         \n",
      "_________________________________________________________________\n",
      "hidden_layer1 (Dense)        (None, 512)               1573376   \n",
      "_________________________________________________________________\n",
      "hidden_layer2 (Dense)        (None, 256)               131328    \n",
      "_________________________________________________________________\n",
      "hidden_layer3 (Dense)        (None, 256)               65792     \n",
      "_________________________________________________________________\n",
      "hidden_layer4 (Dense)        (None, 128)               32896     \n",
      "_________________________________________________________________\n",
      "hidden_layer5 (Dense)        (None, 64)                8256      \n",
      "_________________________________________________________________\n",
      "output (Dense)               (None, 10)                650       \n",
      "=================================================================\n",
      "Total params: 1,812,298\n",
      "Trainable params: 1,812,298\n",
      "Non-trainable params: 0\n",
      "_________________________________________________________________\n"
     ]
    }
   ],
   "source": [
    "\"\"\"\n",
    "Your code here\n",
    "\"\"\"\n",
    "def build_mlp(input_shape, output_units=10, num_neurons=[512, 256, 256, 128, 64]):\n",
    "    input_layer = keras.layers.Input(input_shape)\n",
    "    \n",
    "    for i, n_units in enumerate(num_neurons):\n",
    "        if i == 0:\n",
    "            x = keras.layers.Dense(units=n_units, activation=\"relu\", name=\"hidden_layer\"+str(i+1))(input_layer)\n",
    "        else:\n",
    "            x = keras.layers.Dense(units=n_units, activation=\"relu\", name=\"hidden_layer\"+str(i+1))(x)\n",
    "    \n",
    "    out = keras.layers.Dense(units=output_units, activation=\"softmax\", name=\"output\")(x)\n",
    "    \n",
    "    model = keras.models.Model(inputs=[input_layer], outputs=[out])\n",
    "    return model\n",
    "\n",
    "model = build_mlp(input_shape=x_train.shape[1:])\n",
    "model.summary()"
   ]
  },
  {
   "cell_type": "code",
   "execution_count": 7,
   "metadata": {},
   "outputs": [],
   "source": [
    "## 超參數設定\n",
    "LEARNING_RATE = 0.001\n",
    "EPOCHS = 100\n",
    "BATCH_SIZE = 256"
   ]
  },
  {
   "cell_type": "code",
   "execution_count": 8,
   "metadata": {},
   "outputs": [],
   "source": [
    "optimizer = keras.optimizers.Adam(lr=LEARNING_RATE)\n",
    "model.compile(loss=\"categorical_crossentropy\", metrics=[\"accuracy\"], optimizer=optimizer)"
   ]
  },
  {
   "cell_type": "code",
   "execution_count": 9,
   "metadata": {
    "scrolled": true
   },
   "outputs": [
    {
     "name": "stdout",
     "output_type": "stream",
     "text": [
      "WARNING:tensorflow:From /usr/local/lib/python3.7/site-packages/tensorflow/python/ops/math_ops.py:3066: to_int32 (from tensorflow.python.ops.math_ops) is deprecated and will be removed in a future version.\n",
      "Instructions for updating:\n",
      "Use tf.cast instead.\n",
      "Train on 50000 samples, validate on 10000 samples\n",
      "Epoch 1/100\n",
      "50000/50000 [==============================] - 11s 225us/step - loss: 1.6885 - acc: 0.3977 - val_loss: 1.5259 - val_acc: 0.4613\n",
      "Epoch 2/100\n",
      "50000/50000 [==============================] - 11s 213us/step - loss: 1.4619 - acc: 0.4821 - val_loss: 1.4327 - val_acc: 0.4892\n",
      "Epoch 3/100\n",
      "50000/50000 [==============================] - 10s 210us/step - loss: 1.3457 - acc: 0.5250 - val_loss: 1.4056 - val_acc: 0.5036\n",
      "Epoch 4/100\n",
      "50000/50000 [==============================] - 11s 215us/step - loss: 1.2525 - acc: 0.5573 - val_loss: 1.4070 - val_acc: 0.5041\n",
      "Epoch 5/100\n",
      "50000/50000 [==============================] - 10s 202us/step - loss: 1.1628 - acc: 0.5869 - val_loss: 1.3764 - val_acc: 0.5232\n",
      "Epoch 6/100\n",
      "50000/50000 [==============================] - 10s 195us/step - loss: 1.0820 - acc: 0.6153 - val_loss: 1.3718 - val_acc: 0.5253\n",
      "Epoch 7/100\n",
      "50000/50000 [==============================] - 11s 212us/step - loss: 1.0087 - acc: 0.6433 - val_loss: 1.3830 - val_acc: 0.5351\n",
      "Epoch 8/100\n",
      "50000/50000 [==============================] - 11s 219us/step - loss: 0.9354 - acc: 0.6669 - val_loss: 1.3809 - val_acc: 0.5392\n",
      "Epoch 9/100\n",
      "50000/50000 [==============================] - 12s 243us/step - loss: 0.8660 - acc: 0.6902 - val_loss: 1.4352 - val_acc: 0.5399\n",
      "Epoch 10/100\n",
      "50000/50000 [==============================] - 11s 229us/step - loss: 0.8036 - acc: 0.7144 - val_loss: 1.4895 - val_acc: 0.5306\n",
      "Epoch 11/100\n",
      "50000/50000 [==============================] - 11s 211us/step - loss: 0.7240 - acc: 0.7426 - val_loss: 1.5279 - val_acc: 0.5306\n",
      "Epoch 12/100\n",
      "50000/50000 [==============================] - 11s 224us/step - loss: 0.6751 - acc: 0.7597 - val_loss: 1.6189 - val_acc: 0.5294\n",
      "Epoch 13/100\n",
      "50000/50000 [==============================] - 11s 218us/step - loss: 0.5972 - acc: 0.7860 - val_loss: 1.7068 - val_acc: 0.5367\n",
      "Epoch 14/100\n",
      "50000/50000 [==============================] - 10s 210us/step - loss: 0.5585 - acc: 0.8002 - val_loss: 1.7877 - val_acc: 0.5309\n",
      "Epoch 15/100\n",
      "50000/50000 [==============================] - 11s 215us/step - loss: 0.5012 - acc: 0.8210 - val_loss: 1.7970 - val_acc: 0.5310\n",
      "Epoch 16/100\n",
      "50000/50000 [==============================] - 12s 231us/step - loss: 0.4523 - acc: 0.8398 - val_loss: 1.9348 - val_acc: 0.5278\n",
      "Epoch 17/100\n",
      "50000/50000 [==============================] - 11s 229us/step - loss: 0.4097 - acc: 0.8541 - val_loss: 2.1282 - val_acc: 0.5211\n",
      "Epoch 18/100\n",
      "50000/50000 [==============================] - 11s 211us/step - loss: 0.3861 - acc: 0.8641 - val_loss: 2.1623 - val_acc: 0.5375\n",
      "Epoch 19/100\n",
      "50000/50000 [==============================] - 10s 199us/step - loss: 0.3515 - acc: 0.8764 - val_loss: 2.2804 - val_acc: 0.5272\n",
      "Epoch 20/100\n",
      "50000/50000 [==============================] - 10s 205us/step - loss: 0.3176 - acc: 0.8879 - val_loss: 2.3997 - val_acc: 0.5207\n",
      "Epoch 21/100\n",
      "50000/50000 [==============================] - 10s 201us/step - loss: 0.3132 - acc: 0.8896 - val_loss: 2.4085 - val_acc: 0.5351\n",
      "Epoch 22/100\n",
      "50000/50000 [==============================] - 10s 197us/step - loss: 0.2815 - acc: 0.9012 - val_loss: 2.3922 - val_acc: 0.5255\n",
      "Epoch 23/100\n",
      "50000/50000 [==============================] - 10s 197us/step - loss: 0.2732 - acc: 0.9046 - val_loss: 2.5134 - val_acc: 0.5343\n",
      "Epoch 24/100\n",
      "50000/50000 [==============================] - 10s 198us/step - loss: 0.2576 - acc: 0.9103 - val_loss: 2.6041 - val_acc: 0.5331\n",
      "Epoch 25/100\n",
      "50000/50000 [==============================] - 10s 204us/step - loss: 0.2281 - acc: 0.9184 - val_loss: 2.8108 - val_acc: 0.5317\n",
      "Epoch 26/100\n",
      "50000/50000 [==============================] - 10s 198us/step - loss: 0.2205 - acc: 0.9238 - val_loss: 2.7046 - val_acc: 0.5209\n",
      "Epoch 27/100\n",
      "50000/50000 [==============================] - 10s 198us/step - loss: 0.2213 - acc: 0.9229 - val_loss: 2.8252 - val_acc: 0.5289\n",
      "Epoch 28/100\n",
      "50000/50000 [==============================] - 10s 194us/step - loss: 0.2126 - acc: 0.9282 - val_loss: 2.9402 - val_acc: 0.5315\n",
      "Epoch 29/100\n",
      "50000/50000 [==============================] - 10s 191us/step - loss: 0.1934 - acc: 0.9331 - val_loss: 2.9224 - val_acc: 0.5254\n",
      "Epoch 30/100\n",
      "50000/50000 [==============================] - 10s 192us/step - loss: 0.1852 - acc: 0.9363 - val_loss: 3.0165 - val_acc: 0.5314\n",
      "Epoch 31/100\n",
      "50000/50000 [==============================] - 10s 192us/step - loss: 0.1821 - acc: 0.9368 - val_loss: 3.1232 - val_acc: 0.5228\n",
      "Epoch 32/100\n",
      "50000/50000 [==============================] - 10s 191us/step - loss: 0.1829 - acc: 0.9381 - val_loss: 2.9482 - val_acc: 0.5308\n",
      "Epoch 33/100\n",
      "50000/50000 [==============================] - 10s 192us/step - loss: 0.1565 - acc: 0.9462 - val_loss: 3.0964 - val_acc: 0.5316\n",
      "Epoch 34/100\n",
      "50000/50000 [==============================] - 10s 193us/step - loss: 0.1674 - acc: 0.9429 - val_loss: 3.1927 - val_acc: 0.5269\n",
      "Epoch 35/100\n",
      "50000/50000 [==============================] - 10s 192us/step - loss: 0.1526 - acc: 0.9478 - val_loss: 3.2594 - val_acc: 0.5275\n",
      "Epoch 36/100\n",
      "50000/50000 [==============================] - 10s 192us/step - loss: 0.1492 - acc: 0.9488 - val_loss: 3.2847 - val_acc: 0.5250\n",
      "Epoch 37/100\n",
      "50000/50000 [==============================] - 10s 192us/step - loss: 0.1456 - acc: 0.9513 - val_loss: 3.2375 - val_acc: 0.5258\n",
      "Epoch 38/100\n",
      "50000/50000 [==============================] - 10s 195us/step - loss: 0.1556 - acc: 0.9461 - val_loss: 3.2245 - val_acc: 0.5266\n",
      "Epoch 39/100\n",
      "50000/50000 [==============================] - 11s 220us/step - loss: 0.1477 - acc: 0.9501 - val_loss: 3.2797 - val_acc: 0.5276\n",
      "Epoch 40/100\n",
      "50000/50000 [==============================] - 10s 203us/step - loss: 0.1331 - acc: 0.9546 - val_loss: 3.3959 - val_acc: 0.5288\n",
      "Epoch 41/100\n",
      "50000/50000 [==============================] - 11s 211us/step - loss: 0.1303 - acc: 0.9565 - val_loss: 3.3450 - val_acc: 0.5245\n",
      "Epoch 42/100\n",
      "50000/50000 [==============================] - 10s 195us/step - loss: 0.1576 - acc: 0.9484 - val_loss: 3.2918 - val_acc: 0.5279\n",
      "Epoch 43/100\n",
      "50000/50000 [==============================] - 11s 216us/step - loss: 0.1146 - acc: 0.9616 - val_loss: 3.4717 - val_acc: 0.5251\n",
      "Epoch 44/100\n",
      "50000/50000 [==============================] - 11s 221us/step - loss: 0.1195 - acc: 0.9601 - val_loss: 3.4154 - val_acc: 0.5198\n",
      "Epoch 45/100\n",
      "50000/50000 [==============================] - 12s 248us/step - loss: 0.1508 - acc: 0.9496 - val_loss: 3.3052 - val_acc: 0.5331\n",
      "Epoch 46/100\n",
      "50000/50000 [==============================] - 10s 207us/step - loss: 0.1255 - acc: 0.9576 - val_loss: 3.4367 - val_acc: 0.5276\n",
      "Epoch 47/100\n",
      "50000/50000 [==============================] - 10s 209us/step - loss: 0.1219 - acc: 0.9590 - val_loss: 3.4089 - val_acc: 0.5258\n",
      "Epoch 48/100\n",
      "50000/50000 [==============================] - 11s 227us/step - loss: 0.1055 - acc: 0.9653 - val_loss: 3.5814 - val_acc: 0.5271\n",
      "Epoch 49/100\n",
      "50000/50000 [==============================] - 11s 227us/step - loss: 0.1184 - acc: 0.9614 - val_loss: 3.5029 - val_acc: 0.5242\n",
      "Epoch 50/100\n",
      "50000/50000 [==============================] - 10s 202us/step - loss: 0.1099 - acc: 0.9645 - val_loss: 3.5085 - val_acc: 0.5301\n",
      "Epoch 51/100\n",
      "50000/50000 [==============================] - 10s 201us/step - loss: 0.1248 - acc: 0.9592 - val_loss: 3.5892 - val_acc: 0.5315\n",
      "Epoch 52/100\n",
      "50000/50000 [==============================] - 10s 199us/step - loss: 0.1075 - acc: 0.9650 - val_loss: 3.5353 - val_acc: 0.5278\n",
      "Epoch 53/100\n",
      "50000/50000 [==============================] - 11s 211us/step - loss: 0.1145 - acc: 0.9624 - val_loss: 3.6578 - val_acc: 0.5314\n",
      "Epoch 54/100\n",
      "50000/50000 [==============================] - 10s 202us/step - loss: 0.0962 - acc: 0.9678 - val_loss: 3.7930 - val_acc: 0.5329\n",
      "Epoch 55/100\n",
      "50000/50000 [==============================] - 10s 194us/step - loss: 0.1014 - acc: 0.9662 - val_loss: 3.6779 - val_acc: 0.5252\n",
      "Epoch 56/100\n",
      "50000/50000 [==============================] - 10s 193us/step - loss: 0.1263 - acc: 0.9587 - val_loss: 3.5556 - val_acc: 0.5316\n",
      "Epoch 57/100\n"
     ]
    },
    {
     "name": "stdout",
     "output_type": "stream",
     "text": [
      "50000/50000 [==============================] - 10s 194us/step - loss: 0.1075 - acc: 0.9648 - val_loss: 3.7098 - val_acc: 0.5247\n",
      "Epoch 58/100\n",
      "50000/50000 [==============================] - 10s 195us/step - loss: 0.1041 - acc: 0.9664 - val_loss: 3.5909 - val_acc: 0.5271\n",
      "Epoch 59/100\n",
      "50000/50000 [==============================] - 10s 194us/step - loss: 0.1080 - acc: 0.9645 - val_loss: 3.5880 - val_acc: 0.5278\n",
      "Epoch 60/100\n",
      "50000/50000 [==============================] - 10s 192us/step - loss: 0.0946 - acc: 0.9700 - val_loss: 3.6851 - val_acc: 0.5239\n",
      "Epoch 61/100\n",
      "50000/50000 [==============================] - 10s 194us/step - loss: 0.0969 - acc: 0.9687 - val_loss: 3.6146 - val_acc: 0.5308\n",
      "Epoch 62/100\n",
      "50000/50000 [==============================] - 10s 194us/step - loss: 0.0768 - acc: 0.9747 - val_loss: 3.7952 - val_acc: 0.5291\n",
      "Epoch 63/100\n",
      "50000/50000 [==============================] - 10s 195us/step - loss: 0.0829 - acc: 0.9732 - val_loss: 3.8247 - val_acc: 0.5330\n",
      "Epoch 64/100\n",
      "50000/50000 [==============================] - 10s 205us/step - loss: 0.0906 - acc: 0.9703 - val_loss: 3.7647 - val_acc: 0.5241\n",
      "Epoch 65/100\n",
      "50000/50000 [==============================] - 10s 198us/step - loss: 0.0861 - acc: 0.9723 - val_loss: 3.7762 - val_acc: 0.5235\n",
      "Epoch 66/100\n",
      "50000/50000 [==============================] - 10s 200us/step - loss: 0.1049 - acc: 0.9661 - val_loss: 3.7401 - val_acc: 0.5314\n",
      "Epoch 67/100\n",
      "50000/50000 [==============================] - 10s 201us/step - loss: 0.0971 - acc: 0.9686 - val_loss: 3.6370 - val_acc: 0.5315\n",
      "Epoch 68/100\n",
      "50000/50000 [==============================] - 10s 206us/step - loss: 0.0902 - acc: 0.9709 - val_loss: 3.6797 - val_acc: 0.5268\n",
      "Epoch 69/100\n",
      "50000/50000 [==============================] - 10s 200us/step - loss: 0.0832 - acc: 0.9734 - val_loss: 3.7745 - val_acc: 0.5267\n",
      "Epoch 70/100\n",
      "50000/50000 [==============================] - 10s 199us/step - loss: 0.0896 - acc: 0.9712 - val_loss: 3.7210 - val_acc: 0.5298\n",
      "Epoch 71/100\n",
      "50000/50000 [==============================] - 10s 200us/step - loss: 0.1006 - acc: 0.9675 - val_loss: 3.7097 - val_acc: 0.5308\n",
      "Epoch 72/100\n",
      "50000/50000 [==============================] - 10s 200us/step - loss: 0.0814 - acc: 0.9732 - val_loss: 3.8055 - val_acc: 0.5244\n",
      "Epoch 73/100\n",
      "50000/50000 [==============================] - 10s 199us/step - loss: 0.0702 - acc: 0.9768 - val_loss: 3.7703 - val_acc: 0.5340\n",
      "Epoch 74/100\n",
      "50000/50000 [==============================] - 10s 200us/step - loss: 0.0768 - acc: 0.9745 - val_loss: 3.8715 - val_acc: 0.5303\n",
      "Epoch 75/100\n",
      "50000/50000 [==============================] - 10s 198us/step - loss: 0.0994 - acc: 0.9677 - val_loss: 3.7565 - val_acc: 0.5313\n",
      "Epoch 76/100\n",
      "50000/50000 [==============================] - 10s 199us/step - loss: 0.0825 - acc: 0.9727 - val_loss: 3.8203 - val_acc: 0.5301\n",
      "Epoch 77/100\n",
      "50000/50000 [==============================] - 10s 204us/step - loss: 0.0871 - acc: 0.9715 - val_loss: 3.7403 - val_acc: 0.5231\n",
      "Epoch 78/100\n",
      "50000/50000 [==============================] - 10s 202us/step - loss: 0.0833 - acc: 0.9731 - val_loss: 3.7199 - val_acc: 0.5385\n",
      "Epoch 79/100\n",
      "50000/50000 [==============================] - 10s 200us/step - loss: 0.0618 - acc: 0.9796 - val_loss: 3.9162 - val_acc: 0.5351\n",
      "Epoch 80/100\n",
      "50000/50000 [==============================] - 10s 201us/step - loss: 0.0841 - acc: 0.9738 - val_loss: 3.7199 - val_acc: 0.5341\n",
      "Epoch 81/100\n",
      "50000/50000 [==============================] - 12s 235us/step - loss: 0.0795 - acc: 0.9751 - val_loss: 3.8121 - val_acc: 0.5305\n",
      "Epoch 82/100\n",
      "50000/50000 [==============================] - 10s 202us/step - loss: 0.0754 - acc: 0.9762 - val_loss: 3.7439 - val_acc: 0.5342\n",
      "Epoch 83/100\n",
      "50000/50000 [==============================] - 10s 199us/step - loss: 0.0723 - acc: 0.9770 - val_loss: 3.8180 - val_acc: 0.5314\n",
      "Epoch 84/100\n",
      "50000/50000 [==============================] - 11s 223us/step - loss: 0.0726 - acc: 0.9765 - val_loss: 3.8464 - val_acc: 0.5341\n",
      "Epoch 85/100\n",
      "50000/50000 [==============================] - 11s 211us/step - loss: 0.0814 - acc: 0.9743 - val_loss: 3.8349 - val_acc: 0.5336\n",
      "Epoch 86/100\n",
      "50000/50000 [==============================] - 11s 218us/step - loss: 0.0599 - acc: 0.9806 - val_loss: 4.0262 - val_acc: 0.5233\n",
      "Epoch 87/100\n",
      "50000/50000 [==============================] - 10s 208us/step - loss: 0.0766 - acc: 0.9754 - val_loss: 3.8991 - val_acc: 0.5334\n",
      "Epoch 88/100\n",
      "50000/50000 [==============================] - 10s 203us/step - loss: 0.0683 - acc: 0.9776 - val_loss: 3.8507 - val_acc: 0.5298\n",
      "Epoch 89/100\n",
      "50000/50000 [==============================] - 10s 202us/step - loss: 0.0841 - acc: 0.9733 - val_loss: 3.8361 - val_acc: 0.5305\n",
      "Epoch 90/100\n",
      "50000/50000 [==============================] - 10s 195us/step - loss: 0.0643 - acc: 0.9791 - val_loss: 3.9398 - val_acc: 0.5339\n",
      "Epoch 91/100\n",
      "50000/50000 [==============================] - 10s 203us/step - loss: 0.0601 - acc: 0.9808 - val_loss: 3.9838 - val_acc: 0.5300\n",
      "Epoch 92/100\n",
      "50000/50000 [==============================] - 10s 207us/step - loss: 0.0749 - acc: 0.9764 - val_loss: 3.8924 - val_acc: 0.5317\n",
      "Epoch 93/100\n",
      "50000/50000 [==============================] - 10s 194us/step - loss: 0.0752 - acc: 0.9767 - val_loss: 3.9052 - val_acc: 0.5295\n",
      "Epoch 94/100\n",
      "50000/50000 [==============================] - 12s 249us/step - loss: 0.0660 - acc: 0.9793 - val_loss: 3.9498 - val_acc: 0.5283\n",
      "Epoch 95/100\n",
      "50000/50000 [==============================] - 12s 236us/step - loss: 0.0533 - acc: 0.9833 - val_loss: 3.9474 - val_acc: 0.5340\n",
      "Epoch 96/100\n",
      "50000/50000 [==============================] - 11s 229us/step - loss: 0.0710 - acc: 0.9778 - val_loss: 4.0062 - val_acc: 0.5305\n",
      "Epoch 97/100\n",
      "50000/50000 [==============================] - 12s 231us/step - loss: 0.0816 - acc: 0.9743 - val_loss: 3.8736 - val_acc: 0.5359\n",
      "Epoch 98/100\n",
      "50000/50000 [==============================] - 10s 197us/step - loss: 0.0716 - acc: 0.9769 - val_loss: 3.9191 - val_acc: 0.5380\n",
      "Epoch 99/100\n",
      "50000/50000 [==============================] - 11s 221us/step - loss: 0.0591 - acc: 0.9822 - val_loss: 3.9527 - val_acc: 0.5253\n",
      "Epoch 100/100\n",
      "50000/50000 [==============================] - 11s 229us/step - loss: 0.0515 - acc: 0.9834 - val_loss: 3.9748 - val_acc: 0.5381\n"
     ]
    },
    {
     "data": {
      "text/plain": [
       "<keras.callbacks.History at 0x1328ee0b8>"
      ]
     },
     "execution_count": 9,
     "metadata": {},
     "output_type": "execute_result"
    }
   ],
   "source": [
    "model.fit(x_train, y_train, \n",
    "          epochs=EPOCHS, \n",
    "          batch_size=BATCH_SIZE, \n",
    "          validation_data=(x_test, y_test), \n",
    "          shuffle=True)"
   ]
  },
  {
   "cell_type": "code",
   "execution_count": 10,
   "metadata": {},
   "outputs": [
    {
     "data": {
      "image/png": "[encoded data removed]",
      "text/plain": [
       "<Figure size 432x288 with 1 Axes>"
      ]
     },
     "metadata": {
      "needs_background": "light"
     },
     "output_type": "display_data"
    },
    {
     "data": {
      "image/png": "[encoded data removed]",
      "text/plain": [
       "<Figure size 432x288 with 1 Axes>"
      ]
     },
     "metadata": {
      "needs_background": "light"
     },
     "output_type": "display_data"
    }
   ],
   "source": [
    "%matplotlib inline\n",
    "import matplotlib.pyplot as plt\n",
    "\n",
    "\n",
    "train_loss = model.history.history[\"loss\"]\n",
    "valid_loss = model.history.history[\"val_loss\"]\n",
    "\n",
    "train_acc = model.history.history[\"acc\"]\n",
    "valid_acc = model.history.history[\"val_acc\"]\n",
    "\n",
    "plt.plot(range(len(train_loss)), train_loss, label=\"train loss\")\n",
    "plt.plot(range(len(valid_loss)), valid_loss, label=\"valid loss\")\n",
    "plt.legend()\n",
    "plt.title(\"Loss\")\n",
    "plt.show()\n",
    "\n",
    "plt.plot(range(len(train_acc)), train_acc, label=\"train accuracy\")\n",
    "plt.plot(range(len(valid_acc)), valid_acc, label=\"valid accuracy\")\n",
    "plt.legend()\n",
    "plt.title(\"Accuracy\")\n",
    "plt.show()"
   ]
  }
 ],
 "metadata": {
  "kernelspec": {
   "display_name": "Python 3",
   "language": "python",
   "name": "python3"
  },
  "language_info": {
   "codemirror_mode": {
    "name": "ipython",
    "version": 3
   },
   "file_extension": ".py",
   "mimetype": "text/x-python",
   "name": "python",
   "nbconvert_exporter": "python",
   "pygments_lexer": "ipython3",
   "version": "3.7.0"
  }
 },
 "nbformat": 4,
 "nbformat_minor": 2
}
