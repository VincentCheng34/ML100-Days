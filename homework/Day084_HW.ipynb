{
 "cells": [
  {
   "cell_type": "markdown",
   "metadata": {},
   "source": [
    "## Work\n",
    "請結合前面的知識與程式碼，比較不同的 regularization 的組合對訓練的結果與影響：如 dropout, regularizers, batch-normalization 等"
   ]
  },
  {
   "cell_type": "code",
   "execution_count": 1,
   "metadata": {},
   "outputs": [
    {
     "name": "stderr",
     "output_type": "stream",
     "text": [
      "Using TensorFlow backend.\n"
     ]
    }
   ],
   "source": [
    "import os\n",
    "import keras\n",
    "import itertools\n",
    "# Disable GPU\n",
    "os.environ[\"CUDA_VISIBLE_DEVICES\"] = \"\""
   ]
  },
  {
   "cell_type": "code",
   "execution_count": 2,
   "metadata": {},
   "outputs": [],
   "source": [
    "train, test = keras.datasets.cifar10.load_data()"
   ]
  },
  {
   "cell_type": "code",
   "execution_count": 3,
   "metadata": {},
   "outputs": [],
   "source": [
    "## 資料前處理\n",
    "def preproc_x(x, flatten=True):\n",
    "    x = x / 255.\n",
    "    if flatten:\n",
    "        x = x.reshape((len(x), -1))\n",
    "    return x\n",
    "\n",
    "def preproc_y(y, num_classes=10):\n",
    "    if y.shape[-1] == 1:\n",
    "        y = keras.utils.to_categorical(y, num_classes)\n",
    "    return y    "
   ]
  },
  {
   "cell_type": "code",
   "execution_count": 4,
   "metadata": {},
   "outputs": [],
   "source": [
    "x_train, y_train = train\n",
    "x_test, y_test = test\n",
    "\n",
    "# Preproc the inputs\n",
    "x_train = preproc_x(x_train)\n",
    "x_test = preproc_x(x_test)\n",
    "\n",
    "# Preprc the outputs\n",
    "y_train = preproc_y(y_train)\n",
    "y_test = preproc_y(y_test)"
   ]
  },
  {
   "cell_type": "code",
   "execution_count": 5,
   "metadata": {},
   "outputs": [],
   "source": [
    "# Hint 1 : 在 Dense 層中增加 Regularizers\n",
    "# Hint 2 : 增加 Dropout 層並設定 dropout ratio \n",
    "# Hint 3 : 增加 Batch-normalization 層\n",
    "from keras.layers import BatchNormalization, Activation, Dropout\n",
    "\n",
    "def build_mlp(input_shape, output_units=10, num_neurons=[512, 256, 128], drp_ratio=0.2):\n",
    "    input_layer = keras.layers.Input(input_shape)\n",
    "    \n",
    "    for i, n_units in enumerate(num_neurons):\n",
    "        if i == 0:\n",
    "            x = keras.layers.Dense(units=n_units, \n",
    "                                   activation=\"relu\", \n",
    "                                   name=\"hidden_layer\"+str(i+1))(input_layer)\n",
    "            x = BatchNormalization()(x)\n",
    "            x = Dropout(drp_ratio)(x)\n",
    "        else:\n",
    "            x = keras.layers.Dense(units=n_units, \n",
    "                                   activation=\"relu\", \n",
    "                                   name=\"hidden_layer\"+str(i+1))(x)\n",
    "            x = BatchNormalization()(x)\n",
    "            x = Dropout(drp_ratio)(x)\n",
    "    \n",
    "    out = keras.layers.Dense(units=output_units, activation=\"softmax\", name=\"output\")(x)\n",
    "    \n",
    "    model = keras.models.Model(inputs=[input_layer], outputs=[out])\n",
    "    return model"
   ]
  },
  {
   "cell_type": "code",
   "execution_count": 6,
   "metadata": {},
   "outputs": [],
   "source": [
    "## 超參數設定\n",
    "LEARNING_RATE = 1e-3\n",
    "EPOCHS = 50\n",
    "BATCH_SIZE = 1024"
   ]
  },
  {
   "cell_type": "code",
   "execution_count": 7,
   "metadata": {
    "scrolled": true
   },
   "outputs": [],
   "source": [
    "def mlp_compile(Batch_Size=1024, results={}):\n",
    "    keras.backend.clear_session() # 把舊的 Graph 清掉\n",
    "    print(\"Experiment with batch size = %d\" % (Batch_Size))\n",
    "\n",
    "    model = build_mlp(input_shape=x_train.shape[1:])\n",
    "    model.summary()\n",
    "    model.compile(loss=\"categorical_crossentropy\", metrics=[\"accuracy\"], optimizer=\"sgd\")\n",
    "\n",
    "    model.fit(x_train, y_train, \n",
    "              epochs=EPOCHS, \n",
    "              batch_size=Batch_Size, \n",
    "              validation_data=(x_test, y_test), \n",
    "              shuffle=True)\n",
    "\n",
    "    # Collect results\n",
    "    train_loss = model.history.history[\"loss\"]\n",
    "    valid_loss = model.history.history[\"val_loss\"]\n",
    "    train_acc = model.history.history[\"acc\"]\n",
    "    valid_acc = model.history.history[\"val_acc\"]\n",
    "\n",
    "    exp_name_tag = \"batchsize-{0}\".format(Batch_Size)\n",
    "    results[exp_name_tag] = {'train-loss': train_loss,\n",
    "                             'valid-loss': valid_loss,\n",
    "                             'train-acc': train_acc,\n",
    "                             'valid-acc': valid_acc}"
   ]
  },
  {
   "cell_type": "code",
   "execution_count": 8,
   "metadata": {},
   "outputs": [],
   "source": [
    "import matplotlib.pyplot as plt\n",
    "%matplotlib inline\n",
    "color_bar = [\"r\", \"g\", \"b\", \"y\", \"m\", \"k\"]\n",
    "\n",
    "def plotResult(results):\n",
    "    plt.figure(figsize=(8,6))\n",
    "    for i, cond in enumerate(results.keys()):\n",
    "        plt.plot(range(len(results[cond]['train-loss'])),results[cond]['train-loss'], '-', label=cond, color=color_bar[i])\n",
    "        plt.plot(range(len(results[cond]['valid-loss'])),results[cond]['valid-loss'], '--', label=cond, color=color_bar[i])\n",
    "    plt.title(\"Loss\")\n",
    "    plt.ylim([0, 5])\n",
    "    plt.legend()\n",
    "    plt.show()\n",
    "\n",
    "    plt.figure(figsize=(8,6))\n",
    "    for i, cond in enumerate(results.keys()):\n",
    "        plt.plot(range(len(results[cond]['train-acc'])),results[cond]['train-acc'], '-', label=cond, color=color_bar[i])\n",
    "        plt.plot(range(len(results[cond]['valid-acc'])),results[cond]['valid-acc'], '--', label=cond, color=color_bar[i])\n",
    "    plt.title(\"Accuracy\")\n",
    "    plt.legend()\n",
    "    plt.show()"
   ]
  },
  {
   "cell_type": "code",
   "execution_count": 9,
   "metadata": {
    "scrolled": false
   },
   "outputs": [
    {
     "name": "stdout",
     "output_type": "stream",
     "text": [
      "Experiment with batch size = 1024\n",
      "WARNING:tensorflow:From /usr/local/lib/python3.7/site-packages/tensorflow/python/framework/op_def_library.py:263: colocate_with (from tensorflow.python.framework.ops) is deprecated and will be removed in a future version.\n",
      "Instructions for updating:\n",
      "Colocations handled automatically by placer.\n",
      "WARNING:tensorflow:From /usr/local/lib/python3.7/site-packages/keras/backend/tensorflow_backend.py:3445: calling dropout (from tensorflow.python.ops.nn_ops) with keep_prob is deprecated and will be removed in a future version.\n",
      "Instructions for updating:\n",
      "Please use `rate` instead of `keep_prob`. Rate should be set to `rate = 1 - keep_prob`.\n",
      "_________________________________________________________________\n",
      "Layer (type)                 Output Shape              Param #   \n",
      "=================================================================\n",
      "input_1 (InputLayer)         (None, 3072)              0         \n",
      "_________________________________________________________________\n",
      "hidden_layer1 (Dense)        (None, 512)               1573376   \n",
      "_________________________________________________________________\n",
      "batch_normalization_1 (Batch (None, 512)               2048      \n",
      "_________________________________________________________________\n",
      "dropout_1 (Dropout)          (None, 512)               0         \n",
      "_________________________________________________________________\n",
      "hidden_layer2 (Dense)        (None, 256)               131328    \n",
      "_________________________________________________________________\n",
      "batch_normalization_2 (Batch (None, 256)               1024      \n",
      "_________________________________________________________________\n",
      "dropout_2 (Dropout)          (None, 256)               0         \n",
      "_________________________________________________________________\n",
      "hidden_layer3 (Dense)        (None, 128)               32896     \n",
      "_________________________________________________________________\n",
      "batch_normalization_3 (Batch (None, 128)               512       \n",
      "_________________________________________________________________\n",
      "dropout_3 (Dropout)          (None, 128)               0         \n",
      "_________________________________________________________________\n",
      "output (Dense)               (None, 10)                1290      \n",
      "=================================================================\n",
      "Total params: 1,742,474\n",
      "Trainable params: 1,740,682\n",
      "Non-trainable params: 1,792\n",
      "_________________________________________________________________\n",
      "WARNING:tensorflow:From /usr/local/lib/python3.7/site-packages/tensorflow/python/ops/math_ops.py:3066: to_int32 (from tensorflow.python.ops.math_ops) is deprecated and will be removed in a future version.\n",
      "Instructions for updating:\n",
      "Use tf.cast instead.\n",
      "Train on 50000 samples, validate on 10000 samples\n",
      "Epoch 1/50\n",
      "50000/50000 [==============================] - 10s 198us/step - loss: 2.5205 - acc: 0.2113 - val_loss: 2.0042 - val_acc: 0.3212\n",
      "Epoch 2/50\n",
      "50000/50000 [==============================] - 8s 155us/step - loss: 2.1701 - acc: 0.2850 - val_loss: 1.8853 - val_acc: 0.3584\n",
      "Epoch 3/50\n",
      "50000/50000 [==============================] - 8s 156us/step - loss: 2.0460 - acc: 0.3142 - val_loss: 1.7805 - val_acc: 0.3788\n",
      "Epoch 4/50\n",
      "50000/50000 [==============================] - 7s 144us/step - loss: 1.9620 - acc: 0.3343 - val_loss: 1.7130 - val_acc: 0.3976\n",
      "Epoch 5/50\n",
      "50000/50000 [==============================] - 7s 143us/step - loss: 1.9128 - acc: 0.3448 - val_loss: 1.7073 - val_acc: 0.4043\n",
      "Epoch 6/50\n",
      "50000/50000 [==============================] - 7s 142us/step - loss: 1.8653 - acc: 0.3582 - val_loss: 1.6579 - val_acc: 0.4232\n",
      "Epoch 7/50\n",
      "50000/50000 [==============================] - 7s 142us/step - loss: 1.8260 - acc: 0.3691 - val_loss: 1.6513 - val_acc: 0.4191\n",
      "Epoch 8/50\n",
      "50000/50000 [==============================] - 7s 142us/step - loss: 1.7998 - acc: 0.3737 - val_loss: 1.6123 - val_acc: 0.4347\n",
      "Epoch 9/50\n",
      "50000/50000 [==============================] - 7s 146us/step - loss: 1.7714 - acc: 0.3795 - val_loss: 1.5967 - val_acc: 0.4353\n",
      "Epoch 10/50\n",
      "50000/50000 [==============================] - 7s 150us/step - loss: 1.7503 - acc: 0.3889 - val_loss: 1.5800 - val_acc: 0.4427\n",
      "Epoch 11/50\n",
      "50000/50000 [==============================] - 7s 147us/step - loss: 1.7293 - acc: 0.3928 - val_loss: 1.5676 - val_acc: 0.4421\n",
      "Epoch 12/50\n",
      "50000/50000 [==============================] - 7s 146us/step - loss: 1.7100 - acc: 0.4009 - val_loss: 1.5508 - val_acc: 0.4549\n",
      "Epoch 13/50\n",
      "50000/50000 [==============================] - 8s 161us/step - loss: 1.6915 - acc: 0.4062 - val_loss: 1.5511 - val_acc: 0.4544\n",
      "Epoch 14/50\n",
      "50000/50000 [==============================] - 7s 149us/step - loss: 1.6772 - acc: 0.4082 - val_loss: 1.5309 - val_acc: 0.4602\n",
      "Epoch 15/50\n",
      "50000/50000 [==============================] - 7s 137us/step - loss: 1.6657 - acc: 0.4121 - val_loss: 1.5286 - val_acc: 0.4627\n",
      "Epoch 16/50\n",
      "50000/50000 [==============================] - 7s 138us/step - loss: 1.6472 - acc: 0.4180 - val_loss: 1.5114 - val_acc: 0.4691\n",
      "Epoch 17/50\n",
      "50000/50000 [==============================] - 7s 136us/step - loss: 1.6331 - acc: 0.4232 - val_loss: 1.5062 - val_acc: 0.4702\n",
      "Epoch 18/50\n",
      "50000/50000 [==============================] - 7s 139us/step - loss: 1.6226 - acc: 0.4289 - val_loss: 1.5091 - val_acc: 0.4664\n",
      "Epoch 19/50\n",
      "50000/50000 [==============================] - 7s 139us/step - loss: 1.6109 - acc: 0.4320 - val_loss: 1.4991 - val_acc: 0.4734\n",
      "Epoch 20/50\n",
      "50000/50000 [==============================] - 7s 149us/step - loss: 1.6002 - acc: 0.4321 - val_loss: 1.4906 - val_acc: 0.4779\n",
      "Epoch 21/50\n",
      "50000/50000 [==============================] - 7s 143us/step - loss: 1.5887 - acc: 0.4386 - val_loss: 1.4807 - val_acc: 0.4817\n",
      "Epoch 22/50\n",
      "50000/50000 [==============================] - 7s 149us/step - loss: 1.5783 - acc: 0.4381 - val_loss: 1.4901 - val_acc: 0.4708\n",
      "Epoch 23/50\n",
      "50000/50000 [==============================] - 8s 150us/step - loss: 1.5708 - acc: 0.4405 - val_loss: 1.4736 - val_acc: 0.4762\n",
      "Epoch 24/50\n",
      "50000/50000 [==============================] - 8s 158us/step - loss: 1.5614 - acc: 0.4435 - val_loss: 1.4753 - val_acc: 0.4802\n",
      "Epoch 25/50\n",
      "50000/50000 [==============================] - 9s 183us/step - loss: 1.5584 - acc: 0.4476 - val_loss: 1.4663 - val_acc: 0.4822\n",
      "Epoch 26/50\n",
      "50000/50000 [==============================] - 9s 178us/step - loss: 1.5523 - acc: 0.4502 - val_loss: 1.4568 - val_acc: 0.4844\n",
      "Epoch 27/50\n",
      "50000/50000 [==============================] - 9s 172us/step - loss: 1.5399 - acc: 0.4503 - val_loss: 1.4504 - val_acc: 0.4878\n",
      "Epoch 28/50\n",
      "50000/50000 [==============================] - 8s 165us/step - loss: 1.5302 - acc: 0.4537 - val_loss: 1.4491 - val_acc: 0.4888\n",
      "Epoch 29/50\n",
      "50000/50000 [==============================] - 8s 153us/step - loss: 1.5242 - acc: 0.4547 - val_loss: 1.4508 - val_acc: 0.4839\n",
      "Epoch 30/50\n",
      "50000/50000 [==============================] - 7s 150us/step - loss: 1.5146 - acc: 0.4592 - val_loss: 1.4438 - val_acc: 0.4906\n",
      "Epoch 31/50\n",
      "50000/50000 [==============================] - 9s 173us/step - loss: 1.5126 - acc: 0.4603 - val_loss: 1.4439 - val_acc: 0.4902\n",
      "Epoch 32/50\n",
      "50000/50000 [==============================] - 9s 182us/step - loss: 1.5040 - acc: 0.4630 - val_loss: 1.4385 - val_acc: 0.4914\n",
      "Epoch 33/50\n",
      "50000/50000 [==============================] - 9s 187us/step - loss: 1.5046 - acc: 0.4647 - val_loss: 1.4357 - val_acc: 0.4913\n",
      "Epoch 34/50\n",
      "50000/50000 [==============================] - 8s 157us/step - loss: 1.4945 - acc: 0.4657 - val_loss: 1.4298 - val_acc: 0.4962\n",
      "Epoch 35/50\n",
      "50000/50000 [==============================] - 8s 157us/step - loss: 1.4884 - acc: 0.4696 - val_loss: 1.4240 - val_acc: 0.4934\n",
      "Epoch 36/50\n",
      "50000/50000 [==============================] - 7s 144us/step - loss: 1.4844 - acc: 0.4724 - val_loss: 1.4209 - val_acc: 0.4965\n",
      "Epoch 37/50\n",
      "50000/50000 [==============================] - 8s 155us/step - loss: 1.4746 - acc: 0.4744 - val_loss: 1.4131 - val_acc: 0.4971\n",
      "Epoch 38/50\n",
      "50000/50000 [==============================] - 7s 147us/step - loss: 1.4700 - acc: 0.4761 - val_loss: 1.4125 - val_acc: 0.5006\n",
      "Epoch 39/50\n",
      "50000/50000 [==============================] - 7s 137us/step - loss: 1.4657 - acc: 0.4776 - val_loss: 1.4078 - val_acc: 0.5022\n",
      "Epoch 40/50\n"
     ]
    },
    {
     "name": "stdout",
     "output_type": "stream",
     "text": [
      "50000/50000 [==============================] - 7s 134us/step - loss: 1.4556 - acc: 0.4813 - val_loss: 1.4034 - val_acc: 0.5036\n",
      "Epoch 41/50\n",
      "50000/50000 [==============================] - 7s 140us/step - loss: 1.4539 - acc: 0.4804 - val_loss: 1.4057 - val_acc: 0.4993\n",
      "Epoch 42/50\n",
      "50000/50000 [==============================] - 7s 136us/step - loss: 1.4487 - acc: 0.4831 - val_loss: 1.4118 - val_acc: 0.4988\n",
      "Epoch 43/50\n",
      "50000/50000 [==============================] - 7s 138us/step - loss: 1.4431 - acc: 0.4849 - val_loss: 1.3993 - val_acc: 0.5022\n",
      "Epoch 44/50\n",
      "50000/50000 [==============================] - 8s 154us/step - loss: 1.4371 - acc: 0.4874 - val_loss: 1.3971 - val_acc: 0.5033\n",
      "Epoch 45/50\n",
      "50000/50000 [==============================] - 9s 186us/step - loss: 1.4302 - acc: 0.4910 - val_loss: 1.3955 - val_acc: 0.5043\n",
      "Epoch 46/50\n",
      "50000/50000 [==============================] - 11s 215us/step - loss: 1.4302 - acc: 0.4913 - val_loss: 1.3899 - val_acc: 0.5088\n",
      "Epoch 47/50\n",
      "50000/50000 [==============================] - 10s 201us/step - loss: 1.4238 - acc: 0.4911 - val_loss: 1.3873 - val_acc: 0.5106\n",
      "Epoch 48/50\n",
      "50000/50000 [==============================] - 9s 179us/step - loss: 1.4228 - acc: 0.4945 - val_loss: 1.3912 - val_acc: 0.5019\n",
      "Epoch 49/50\n",
      "50000/50000 [==============================] - 7s 145us/step - loss: 1.4132 - acc: 0.4953 - val_loss: 1.3833 - val_acc: 0.5082\n",
      "Epoch 50/50\n",
      "50000/50000 [==============================] - 7s 140us/step - loss: 1.4111 - acc: 0.4961 - val_loss: 1.3841 - val_acc: 0.5076\n"
     ]
    },
    {
     "data": {
      "image/png": "[encoded data removed]",
      "text/plain": [
       "<Figure size 576x432 with 1 Axes>"
      ]
     },
     "metadata": {
      "needs_background": "light"
     },
     "output_type": "display_data"
    },
    {
     "data": {
      "image/png": "[encoded data removed]",
      "text/plain": [
       "<Figure size 576x432 with 1 Axes>"
      ]
     },
     "metadata": {
      "needs_background": "light"
     },
     "output_type": "display_data"
    }
   ],
   "source": [
    "results = {}\n",
    "mlp_compile(results=results)\n",
    "plotResult(results)"
   ]
  }
 ],
 "metadata": {
  "kernelspec": {
   "display_name": "Python 3",
   "language": "python",
   "name": "python3"
  },
  "language_info": {
   "codemirror_mode": {
    "name": "ipython",
    "version": 3
   },
   "file_extension": ".py",
   "mimetype": "text/x-python",
   "name": "python",
   "nbconvert_exporter": "python",
   "pygments_lexer": "ipython3",
   "version": "3.7.0"
  }
 },
 "nbformat": 4,
 "nbformat_minor": 2
}
