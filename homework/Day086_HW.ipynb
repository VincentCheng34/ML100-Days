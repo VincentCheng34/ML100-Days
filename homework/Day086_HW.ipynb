{
 "cells": [
  {
   "cell_type": "markdown",
   "metadata": {},
   "source": [
    "## Work\n",
    "1. 試比較 save_best_only 與否的差異\n",
    "2. 請僅存入將 save_weights_only 設定為 True, 並嘗試 reset ipynb 並將模型與權重重新建回並預測 x_test"
   ]
  },
  {
   "cell_type": "code",
   "execution_count": 1,
   "metadata": {},
   "outputs": [
    {
     "name": "stderr",
     "output_type": "stream",
     "text": [
      "Using TensorFlow backend.\n"
     ]
    }
   ],
   "source": [
    "import os\n",
    "import keras\n",
    "\n",
    "# Disable GPU\n",
    "os.environ[\"CUDA_VISIBLE_DEVICES\"] = \"\""
   ]
  },
  {
   "cell_type": "code",
   "execution_count": 2,
   "metadata": {},
   "outputs": [],
   "source": [
    "train, test = keras.datasets.cifar10.load_data()"
   ]
  },
  {
   "cell_type": "code",
   "execution_count": 3,
   "metadata": {},
   "outputs": [],
   "source": [
    "## 資料前處理\n",
    "def preproc_x(x, flatten=True):\n",
    "    x = x / 255.\n",
    "    if flatten:\n",
    "        x = x.reshape((len(x), -1))\n",
    "    return x\n",
    "\n",
    "def preproc_y(y, num_classes=10):\n",
    "    if y.shape[-1] == 1:\n",
    "        y = keras.utils.to_categorical(y, num_classes)\n",
    "    return y    "
   ]
  },
  {
   "cell_type": "code",
   "execution_count": 4,
   "metadata": {},
   "outputs": [],
   "source": [
    "x_train, y_train = train\n",
    "x_test, y_test = test\n",
    "\n",
    "# Preproc the inputs\n",
    "x_train = preproc_x(x_train)\n",
    "x_test = preproc_x(x_test)\n",
    "\n",
    "# Preprc the outputs\n",
    "y_train = preproc_y(y_train)\n",
    "y_test = preproc_y(y_test)"
   ]
  },
  {
   "cell_type": "code",
   "execution_count": 5,
   "metadata": {},
   "outputs": [],
   "source": [
    "from keras.layers import BatchNormalization\n",
    "def build_mlp(input_shape, output_units=10, num_neurons=[512, 256, 128]):\n",
    "    input_layer = keras.layers.Input(input_shape)\n",
    "    \n",
    "    for i, n_units in enumerate(num_neurons):\n",
    "        if i == 0:\n",
    "            x = keras.layers.Dense(units=n_units, \n",
    "                                   activation=\"relu\", \n",
    "                                   name=\"hidden_layer\"+str(i+1))(input_layer)\n",
    "            x = BatchNormalization()(x)\n",
    "        else:\n",
    "            x = keras.layers.Dense(units=n_units, \n",
    "                                   activation=\"relu\", \n",
    "                                   name=\"hidden_layer\"+str(i+1))(x)\n",
    "            x = BatchNormalization()(x)\n",
    "    \n",
    "    out = keras.layers.Dense(units=output_units, activation=\"softmax\", name=\"output\")(x)\n",
    "    \n",
    "    model = keras.models.Model(inputs=[input_layer], outputs=[out])\n",
    "    return model"
   ]
  },
  {
   "cell_type": "code",
   "execution_count": 6,
   "metadata": {},
   "outputs": [],
   "source": [
    "## 超參數設定\n",
    "LEARNING_RATE = 1e-3\n",
    "EPOCHS = 50\n",
    "BATCH_SIZE = 1024\n",
    "MOMENTUM = 0.95"
   ]
  },
  {
   "cell_type": "code",
   "execution_count": 7,
   "metadata": {},
   "outputs": [],
   "source": [
    "def mlp_compile(model_ckpt, name=\"unknown\", Batch_Size=1024, results={}):\n",
    "    keras.backend.clear_session() # 把舊的 Graph 清掉\n",
    "    print(\"Experiment with %s\" % (name))\n",
    "\n",
    "    model = build_mlp(input_shape=x_train.shape[1:])\n",
    "    model.summary()\n",
    "    optimizer = keras.optimizers.SGD(lr=LEARNING_RATE, nesterov=True, momentum=MOMENTUM)\n",
    "    model.compile(loss=\"categorical_crossentropy\", metrics=[\"accuracy\"], optimizer=optimizer)\n",
    "\n",
    "    model.fit(x_train, y_train, \n",
    "          epochs=EPOCHS, \n",
    "          batch_size=BATCH_SIZE, \n",
    "          validation_data=(x_test, y_test), \n",
    "          shuffle=True,\n",
    "          callbacks=[model_ckpt]\n",
    "         )\n",
    "\n",
    "    # Collect results\n",
    "    train_loss = model.history.history[\"loss\"]\n",
    "    valid_loss = model.history.history[\"val_loss\"]\n",
    "    train_acc = model.history.history[\"acc\"]\n",
    "    valid_acc = model.history.history[\"val_acc\"]\n",
    "\n",
    "    exp_name_tag = \"exp-{0}\".format(name)\n",
    "    results[exp_name_tag] = {'train-loss': train_loss,\n",
    "                             'valid-loss': valid_loss,\n",
    "                             'train-acc': train_acc,\n",
    "                             'valid-acc': valid_acc}"
   ]
  },
  {
   "cell_type": "code",
   "execution_count": 8,
   "metadata": {
    "scrolled": true
   },
   "outputs": [],
   "source": [
    "import matplotlib.pyplot as plt\n",
    "%matplotlib inline\n",
    "color_bar = [\"r\", \"g\", \"b\", \"y\", \"m\", \"k\"]\n",
    "\n",
    "def plotGraph(results):\n",
    "    plt.figure(figsize=(8,6))\n",
    "    for i, cond in enumerate(results.keys()):\n",
    "        plt.plot(range(len(results[cond]['train-loss'])),results[cond]['train-loss'], '-', label=cond, color=color_bar[i])\n",
    "        plt.plot(range(len(results[cond]['valid-loss'])),results[cond]['valid-loss'], '--', label=cond, color=color_bar[i])\n",
    "    plt.title(\"Loss\")\n",
    "    plt.ylim([0, 5])\n",
    "    plt.legend()\n",
    "    plt.show()\n",
    "\n",
    "    plt.figure(figsize=(8,6))\n",
    "    for i, cond in enumerate(results.keys()):\n",
    "        plt.plot(range(len(results[cond]['train-acc'])),results[cond]['train-acc'], '-', label=cond, color=color_bar[i])\n",
    "        plt.plot(range(len(results[cond]['valid-acc'])),results[cond]['valid-acc'], '--', label=cond, color=color_bar[i])\n",
    "    plt.title(\"Accuracy\")\n",
    "    plt.legend()\n",
    "    plt.show()"
   ]
  },
  {
   "cell_type": "markdown",
   "metadata": {},
   "source": [
    "## 試比較 save_best_only 與否的差異"
   ]
  },
  {
   "cell_type": "code",
   "execution_count": 9,
   "metadata": {
    "scrolled": false
   },
   "outputs": [
    {
     "name": "stdout",
     "output_type": "stream",
     "text": [
      "Experiment with save_best_only-True\n",
      "WARNING:tensorflow:From /usr/local/lib/python3.7/site-packages/tensorflow/python/framework/op_def_library.py:263: colocate_with (from tensorflow.python.framework.ops) is deprecated and will be removed in a future version.\n",
      "Instructions for updating:\n",
      "Colocations handled automatically by placer.\n",
      "_________________________________________________________________\n",
      "Layer (type)                 Output Shape              Param #   \n",
      "=================================================================\n",
      "input_1 (InputLayer)         (None, 3072)              0         \n",
      "_________________________________________________________________\n",
      "hidden_layer1 (Dense)        (None, 512)               1573376   \n",
      "_________________________________________________________________\n",
      "batch_normalization_1 (Batch (None, 512)               2048      \n",
      "_________________________________________________________________\n",
      "hidden_layer2 (Dense)        (None, 256)               131328    \n",
      "_________________________________________________________________\n",
      "batch_normalization_2 (Batch (None, 256)               1024      \n",
      "_________________________________________________________________\n",
      "hidden_layer3 (Dense)        (None, 128)               32896     \n",
      "_________________________________________________________________\n",
      "batch_normalization_3 (Batch (None, 128)               512       \n",
      "_________________________________________________________________\n",
      "output (Dense)               (None, 10)                1290      \n",
      "=================================================================\n",
      "Total params: 1,742,474\n",
      "Trainable params: 1,740,682\n",
      "Non-trainable params: 1,792\n",
      "_________________________________________________________________\n",
      "WARNING:tensorflow:From /usr/local/lib/python3.7/site-packages/tensorflow/python/ops/math_ops.py:3066: to_int32 (from tensorflow.python.ops.math_ops) is deprecated and will be removed in a future version.\n",
      "Instructions for updating:\n",
      "Use tf.cast instead.\n",
      "Train on 50000 samples, validate on 10000 samples\n",
      "Epoch 1/50\n",
      "50000/50000 [==============================] - 9s 184us/step - loss: 2.2068 - acc: 0.2725 - val_loss: 2.0612 - val_acc: 0.3181\n",
      "Epoch 2/50\n",
      "50000/50000 [==============================] - 8s 153us/step - loss: 1.7497 - acc: 0.3916 - val_loss: 1.8074 - val_acc: 0.3769\n",
      "Epoch 3/50\n",
      "50000/50000 [==============================] - 7s 143us/step - loss: 1.6191 - acc: 0.4342 - val_loss: 1.6863 - val_acc: 0.4231\n",
      "Epoch 4/50\n",
      "50000/50000 [==============================] - 7s 147us/step - loss: 1.5409 - acc: 0.4623 - val_loss: 1.6328 - val_acc: 0.4287\n",
      "Epoch 5/50\n",
      "50000/50000 [==============================] - 7s 148us/step - loss: 1.4845 - acc: 0.4827 - val_loss: 1.5809 - val_acc: 0.4463\n",
      "Epoch 6/50\n",
      "50000/50000 [==============================] - 7s 142us/step - loss: 1.4390 - acc: 0.4986 - val_loss: 1.5612 - val_acc: 0.4519\n",
      "Epoch 7/50\n",
      "50000/50000 [==============================] - 7s 143us/step - loss: 1.3980 - acc: 0.5126 - val_loss: 1.5395 - val_acc: 0.4588\n",
      "Epoch 8/50\n",
      "50000/50000 [==============================] - 7s 143us/step - loss: 1.3629 - acc: 0.5247 - val_loss: 1.5271 - val_acc: 0.4672\n",
      "Epoch 9/50\n",
      "50000/50000 [==============================] - 7s 145us/step - loss: 1.3297 - acc: 0.5360 - val_loss: 1.5082 - val_acc: 0.4666\n",
      "Epoch 10/50\n",
      "50000/50000 [==============================] - 7s 144us/step - loss: 1.3002 - acc: 0.5466 - val_loss: 1.4992 - val_acc: 0.4695\n",
      "Epoch 11/50\n",
      "50000/50000 [==============================] - 7s 141us/step - loss: 1.2711 - acc: 0.5574 - val_loss: 1.4953 - val_acc: 0.4721\n",
      "Epoch 12/50\n",
      "50000/50000 [==============================] - 7s 138us/step - loss: 1.2442 - acc: 0.5694 - val_loss: 1.4779 - val_acc: 0.4828\n",
      "Epoch 13/50\n",
      "50000/50000 [==============================] - 7s 139us/step - loss: 1.2173 - acc: 0.5777 - val_loss: 1.4810 - val_acc: 0.4796\n",
      "Epoch 14/50\n",
      "50000/50000 [==============================] - 7s 144us/step - loss: 1.1904 - acc: 0.5884 - val_loss: 1.4805 - val_acc: 0.4770\n",
      "Epoch 15/50\n",
      "50000/50000 [==============================] - 7s 143us/step - loss: 1.1689 - acc: 0.5947 - val_loss: 1.4731 - val_acc: 0.4842\n",
      "Epoch 16/50\n",
      "50000/50000 [==============================] - 7s 133us/step - loss: 1.1441 - acc: 0.6050 - val_loss: 1.4586 - val_acc: 0.4923\n",
      "Epoch 17/50\n",
      "50000/50000 [==============================] - 7s 138us/step - loss: 1.1205 - acc: 0.6140 - val_loss: 1.4525 - val_acc: 0.4917\n",
      "Epoch 18/50\n",
      "50000/50000 [==============================] - 7s 139us/step - loss: 1.0974 - acc: 0.6228 - val_loss: 1.4592 - val_acc: 0.4890\n",
      "Epoch 19/50\n",
      "50000/50000 [==============================] - 7s 144us/step - loss: 1.0767 - acc: 0.6306 - val_loss: 1.4573 - val_acc: 0.4895\n",
      "Epoch 20/50\n",
      "50000/50000 [==============================] - 7s 149us/step - loss: 1.0537 - acc: 0.6378 - val_loss: 1.4466 - val_acc: 0.4883\n",
      "Epoch 21/50\n",
      "50000/50000 [==============================] - 7s 140us/step - loss: 1.0333 - acc: 0.6490 - val_loss: 1.4500 - val_acc: 0.4947\n",
      "Epoch 22/50\n",
      "50000/50000 [==============================] - 7s 138us/step - loss: 1.0111 - acc: 0.6550 - val_loss: 1.4554 - val_acc: 0.4939\n",
      "Epoch 23/50\n",
      "50000/50000 [==============================] - 7s 139us/step - loss: 0.9892 - acc: 0.6656 - val_loss: 1.4578 - val_acc: 0.4899\n",
      "Epoch 24/50\n",
      "50000/50000 [==============================] - 7s 140us/step - loss: 0.9699 - acc: 0.6726 - val_loss: 1.4547 - val_acc: 0.4939\n",
      "Epoch 25/50\n",
      "50000/50000 [==============================] - 7s 142us/step - loss: 0.9494 - acc: 0.6797 - val_loss: 1.4463 - val_acc: 0.5025\n",
      "Epoch 26/50\n",
      "50000/50000 [==============================] - 7s 137us/step - loss: 0.9310 - acc: 0.6864 - val_loss: 1.4633 - val_acc: 0.4918\n",
      "Epoch 27/50\n",
      "50000/50000 [==============================] - 7s 138us/step - loss: 0.9073 - acc: 0.6958 - val_loss: 1.4515 - val_acc: 0.5025\n",
      "Epoch 28/50\n",
      "50000/50000 [==============================] - 7s 140us/step - loss: 0.8870 - acc: 0.7035 - val_loss: 1.4913 - val_acc: 0.4918\n",
      "Epoch 29/50\n",
      "50000/50000 [==============================] - 7s 136us/step - loss: 0.8669 - acc: 0.7122 - val_loss: 1.4697 - val_acc: 0.4965\n",
      "Epoch 30/50\n",
      "50000/50000 [==============================] - 7s 137us/step - loss: 0.8481 - acc: 0.7189 - val_loss: 1.4873 - val_acc: 0.4899\n",
      "Epoch 31/50\n",
      "50000/50000 [==============================] - 7s 140us/step - loss: 0.8267 - acc: 0.7276 - val_loss: 1.4902 - val_acc: 0.4981\n",
      "Epoch 32/50\n",
      "50000/50000 [==============================] - 7s 142us/step - loss: 0.8077 - acc: 0.7354 - val_loss: 1.4802 - val_acc: 0.4982\n",
      "Epoch 33/50\n",
      "50000/50000 [==============================] - 7s 139us/step - loss: 0.7886 - acc: 0.7426 - val_loss: 1.4889 - val_acc: 0.4973\n",
      "Epoch 34/50\n",
      "50000/50000 [==============================] - 7s 140us/step - loss: 0.7681 - acc: 0.7519 - val_loss: 1.4961 - val_acc: 0.4965\n",
      "Epoch 35/50\n",
      "50000/50000 [==============================] - 7s 145us/step - loss: 0.7519 - acc: 0.7575 - val_loss: 1.5125 - val_acc: 0.4962\n",
      "Epoch 36/50\n",
      "50000/50000 [==============================] - 7s 145us/step - loss: 0.7309 - acc: 0.7673 - val_loss: 1.5019 - val_acc: 0.4951\n",
      "Epoch 37/50\n",
      "50000/50000 [==============================] - 7s 144us/step - loss: 0.7130 - acc: 0.7735 - val_loss: 1.5212 - val_acc: 0.4966\n",
      "Epoch 38/50\n",
      "50000/50000 [==============================] - 7s 147us/step - loss: 0.6942 - acc: 0.7836 - val_loss: 1.5273 - val_acc: 0.4950\n",
      "Epoch 39/50\n",
      "50000/50000 [==============================] - 7s 148us/step - loss: 0.6759 - acc: 0.7879 - val_loss: 1.5421 - val_acc: 0.4908\n",
      "Epoch 40/50\n",
      "50000/50000 [==============================] - 8s 152us/step - loss: 0.6543 - acc: 0.7990 - val_loss: 1.5516 - val_acc: 0.4925\n",
      "Epoch 41/50\n",
      "50000/50000 [==============================] - 7s 149us/step - loss: 0.6383 - acc: 0.8053 - val_loss: 1.5606 - val_acc: 0.4932\n",
      "Epoch 42/50\n",
      "50000/50000 [==============================] - 7s 146us/step - loss: 0.6202 - acc: 0.8106 - val_loss: 1.5574 - val_acc: 0.4940\n",
      "Epoch 43/50\n",
      "50000/50000 [==============================] - 8s 153us/step - loss: 0.6000 - acc: 0.8194 - val_loss: 1.5744 - val_acc: 0.4959\n",
      "Epoch 44/50\n",
      "50000/50000 [==============================] - 8s 151us/step - loss: 0.5856 - acc: 0.8262 - val_loss: 1.5824 - val_acc: 0.4929\n",
      "Epoch 45/50\n"
     ]
    },
    {
     "name": "stdout",
     "output_type": "stream",
     "text": [
      "50000/50000 [==============================] - 7s 138us/step - loss: 0.5666 - acc: 0.8337 - val_loss: 1.5990 - val_acc: 0.4930\n",
      "Epoch 46/50\n",
      "50000/50000 [==============================] - 7s 141us/step - loss: 0.5512 - acc: 0.8394 - val_loss: 1.5985 - val_acc: 0.4952\n",
      "Epoch 47/50\n",
      "50000/50000 [==============================] - 7s 135us/step - loss: 0.5322 - acc: 0.8467 - val_loss: 1.6470 - val_acc: 0.4905\n",
      "Epoch 48/50\n",
      "50000/50000 [==============================] - 9s 171us/step - loss: 0.5149 - acc: 0.8527 - val_loss: 1.6273 - val_acc: 0.4977\n",
      "Epoch 49/50\n",
      "50000/50000 [==============================] - 8s 152us/step - loss: 0.4994 - acc: 0.8593 - val_loss: 1.6538 - val_acc: 0.4880\n",
      "Epoch 50/50\n",
      "50000/50000 [==============================] - 7s 145us/step - loss: 0.4838 - acc: 0.8654 - val_loss: 1.6717 - val_acc: 0.4909\n",
      "Experiment with save_best_only-False\n",
      "_________________________________________________________________\n",
      "Layer (type)                 Output Shape              Param #   \n",
      "=================================================================\n",
      "input_1 (InputLayer)         (None, 3072)              0         \n",
      "_________________________________________________________________\n",
      "hidden_layer1 (Dense)        (None, 512)               1573376   \n",
      "_________________________________________________________________\n",
      "batch_normalization_1 (Batch (None, 512)               2048      \n",
      "_________________________________________________________________\n",
      "hidden_layer2 (Dense)        (None, 256)               131328    \n",
      "_________________________________________________________________\n",
      "batch_normalization_2 (Batch (None, 256)               1024      \n",
      "_________________________________________________________________\n",
      "hidden_layer3 (Dense)        (None, 128)               32896     \n",
      "_________________________________________________________________\n",
      "batch_normalization_3 (Batch (None, 128)               512       \n",
      "_________________________________________________________________\n",
      "output (Dense)               (None, 10)                1290      \n",
      "=================================================================\n",
      "Total params: 1,742,474\n",
      "Trainable params: 1,740,682\n",
      "Non-trainable params: 1,792\n",
      "_________________________________________________________________\n",
      "Train on 50000 samples, validate on 10000 samples\n",
      "Epoch 1/50\n",
      "50000/50000 [==============================] - 8s 162us/step - loss: 2.2062 - acc: 0.2732 - val_loss: 2.1847 - val_acc: 0.3093\n",
      "Epoch 2/50\n",
      "50000/50000 [==============================] - 7s 141us/step - loss: 1.7507 - acc: 0.3923 - val_loss: 1.8147 - val_acc: 0.3842\n",
      "Epoch 3/50\n",
      "50000/50000 [==============================] - 7s 141us/step - loss: 1.6233 - acc: 0.4347 - val_loss: 1.6943 - val_acc: 0.4127\n",
      "Epoch 4/50\n",
      "50000/50000 [==============================] - 7s 150us/step - loss: 1.5482 - acc: 0.4588 - val_loss: 1.6319 - val_acc: 0.4317\n",
      "Epoch 5/50\n",
      "50000/50000 [==============================] - 7s 147us/step - loss: 1.4928 - acc: 0.4786 - val_loss: 1.6014 - val_acc: 0.4321\n",
      "Epoch 6/50\n",
      "50000/50000 [==============================] - 7s 148us/step - loss: 1.4460 - acc: 0.4944 - val_loss: 1.5801 - val_acc: 0.4410\n",
      "Epoch 7/50\n",
      "50000/50000 [==============================] - 7s 138us/step - loss: 1.4061 - acc: 0.5084 - val_loss: 1.5508 - val_acc: 0.4540\n",
      "Epoch 8/50\n",
      "50000/50000 [==============================] - 7s 132us/step - loss: 1.3705 - acc: 0.5202 - val_loss: 1.5289 - val_acc: 0.4608\n",
      "Epoch 9/50\n",
      "50000/50000 [==============================] - 7s 136us/step - loss: 1.3401 - acc: 0.5321 - val_loss: 1.5301 - val_acc: 0.4619\n",
      "Epoch 10/50\n",
      "50000/50000 [==============================] - 7s 133us/step - loss: 1.3090 - acc: 0.5441 - val_loss: 1.5204 - val_acc: 0.4636\n",
      "Epoch 11/50\n",
      "50000/50000 [==============================] - 7s 134us/step - loss: 1.2820 - acc: 0.5543 - val_loss: 1.5052 - val_acc: 0.4744\n",
      "Epoch 12/50\n",
      "50000/50000 [==============================] - 7s 133us/step - loss: 1.2550 - acc: 0.5634 - val_loss: 1.5001 - val_acc: 0.4751\n",
      "Epoch 13/50\n",
      "50000/50000 [==============================] - 7s 142us/step - loss: 1.2284 - acc: 0.5732 - val_loss: 1.4827 - val_acc: 0.4735\n",
      "Epoch 14/50\n",
      "50000/50000 [==============================] - 7s 135us/step - loss: 1.2044 - acc: 0.5841 - val_loss: 1.4822 - val_acc: 0.4804\n",
      "Epoch 15/50\n",
      "50000/50000 [==============================] - 7s 134us/step - loss: 1.1792 - acc: 0.5931 - val_loss: 1.4787 - val_acc: 0.4839\n",
      "Epoch 16/50\n",
      "50000/50000 [==============================] - 7s 134us/step - loss: 1.1577 - acc: 0.6003 - val_loss: 1.4706 - val_acc: 0.4816\n",
      "Epoch 17/50\n",
      "50000/50000 [==============================] - 7s 136us/step - loss: 1.1336 - acc: 0.6100 - val_loss: 1.4693 - val_acc: 0.4867\n",
      "Epoch 18/50\n",
      "50000/50000 [==============================] - 7s 136us/step - loss: 1.1119 - acc: 0.6176 - val_loss: 1.4691 - val_acc: 0.4853\n",
      "Epoch 19/50\n",
      "50000/50000 [==============================] - 7s 135us/step - loss: 1.0884 - acc: 0.6283 - val_loss: 1.4747 - val_acc: 0.4762\n",
      "Epoch 20/50\n",
      "50000/50000 [==============================] - 7s 139us/step - loss: 1.0674 - acc: 0.6360 - val_loss: 1.4656 - val_acc: 0.4860\n",
      "Epoch 21/50\n",
      "50000/50000 [==============================] - 7s 148us/step - loss: 1.0438 - acc: 0.6458 - val_loss: 1.4608 - val_acc: 0.4923\n",
      "Epoch 22/50\n",
      "50000/50000 [==============================] - 7s 147us/step - loss: 1.0240 - acc: 0.6516 - val_loss: 1.4644 - val_acc: 0.4863\n",
      "Epoch 23/50\n",
      "50000/50000 [==============================] - 7s 137us/step - loss: 1.0019 - acc: 0.6607 - val_loss: 1.4564 - val_acc: 0.4896\n",
      "Epoch 24/50\n",
      "50000/50000 [==============================] - 7s 137us/step - loss: 0.9837 - acc: 0.6688 - val_loss: 1.4671 - val_acc: 0.4906\n",
      "Epoch 25/50\n",
      "50000/50000 [==============================] - 7s 136us/step - loss: 0.9612 - acc: 0.6765 - val_loss: 1.4641 - val_acc: 0.4947\n",
      "Epoch 26/50\n",
      "50000/50000 [==============================] - 7s 136us/step - loss: 0.9420 - acc: 0.6847 - val_loss: 1.4657 - val_acc: 0.4940\n",
      "Epoch 27/50\n",
      "50000/50000 [==============================] - 7s 136us/step - loss: 0.9207 - acc: 0.6917 - val_loss: 1.4835 - val_acc: 0.4823\n",
      "Epoch 28/50\n",
      "50000/50000 [==============================] - 7s 138us/step - loss: 0.9018 - acc: 0.6986 - val_loss: 1.4726 - val_acc: 0.4905\n",
      "Epoch 29/50\n",
      "50000/50000 [==============================] - 7s 137us/step - loss: 0.8817 - acc: 0.7077 - val_loss: 1.4894 - val_acc: 0.4857\n",
      "Epoch 30/50\n",
      "50000/50000 [==============================] - 7s 137us/step - loss: 0.8625 - acc: 0.7150 - val_loss: 1.4865 - val_acc: 0.4932\n",
      "Epoch 31/50\n",
      "50000/50000 [==============================] - 7s 137us/step - loss: 0.8428 - acc: 0.7230 - val_loss: 1.4924 - val_acc: 0.4941\n",
      "Epoch 32/50\n",
      "50000/50000 [==============================] - 7s 137us/step - loss: 0.8240 - acc: 0.7314 - val_loss: 1.4976 - val_acc: 0.4951\n",
      "Epoch 33/50\n",
      "50000/50000 [==============================] - 7s 138us/step - loss: 0.8046 - acc: 0.7374 - val_loss: 1.5084 - val_acc: 0.4886\n",
      "Epoch 34/50\n",
      "50000/50000 [==============================] - 7s 140us/step - loss: 0.7849 - acc: 0.7451 - val_loss: 1.5121 - val_acc: 0.4921\n",
      "Epoch 35/50\n",
      "50000/50000 [==============================] - 7s 137us/step - loss: 0.7665 - acc: 0.7539 - val_loss: 1.5278 - val_acc: 0.4935\n",
      "Epoch 36/50\n",
      "50000/50000 [==============================] - 7s 137us/step - loss: 0.7482 - acc: 0.7590 - val_loss: 1.5256 - val_acc: 0.4912\n",
      "Epoch 37/50\n",
      "50000/50000 [==============================] - 7s 137us/step - loss: 0.7283 - acc: 0.7682 - val_loss: 1.5358 - val_acc: 0.4920\n",
      "Epoch 38/50\n",
      "50000/50000 [==============================] - 7s 138us/step - loss: 0.7092 - acc: 0.7763 - val_loss: 1.5455 - val_acc: 0.4937\n",
      "Epoch 39/50\n",
      "50000/50000 [==============================] - 7s 137us/step - loss: 0.6930 - acc: 0.7820 - val_loss: 1.5584 - val_acc: 0.4885\n",
      "Epoch 40/50\n",
      "50000/50000 [==============================] - 7s 137us/step - loss: 0.6741 - acc: 0.7906 - val_loss: 1.5669 - val_acc: 0.4947\n",
      "Epoch 41/50\n",
      "50000/50000 [==============================] - 7s 138us/step - loss: 0.6543 - acc: 0.7979 - val_loss: 1.5751 - val_acc: 0.4948\n",
      "Epoch 42/50\n",
      "50000/50000 [==============================] - 7s 145us/step - loss: 0.6379 - acc: 0.8038 - val_loss: 1.6054 - val_acc: 0.4917\n",
      "Epoch 43/50\n"
     ]
    },
    {
     "name": "stdout",
     "output_type": "stream",
     "text": [
      "50000/50000 [==============================] - 7s 144us/step - loss: 0.6190 - acc: 0.8114 - val_loss: 1.5977 - val_acc: 0.4908\n",
      "Epoch 44/50\n",
      "50000/50000 [==============================] - 7s 142us/step - loss: 0.5992 - acc: 0.8197 - val_loss: 1.6007 - val_acc: 0.4905\n",
      "Epoch 45/50\n",
      "50000/50000 [==============================] - 7s 135us/step - loss: 0.5839 - acc: 0.8246 - val_loss: 1.6236 - val_acc: 0.4846\n",
      "Epoch 46/50\n",
      "50000/50000 [==============================] - 7s 142us/step - loss: 0.5683 - acc: 0.8309 - val_loss: 1.6339 - val_acc: 0.4865\n",
      "Epoch 47/50\n",
      "50000/50000 [==============================] - 7s 150us/step - loss: 0.5474 - acc: 0.8416 - val_loss: 1.6397 - val_acc: 0.4888\n",
      "Epoch 48/50\n",
      "50000/50000 [==============================] - 7s 149us/step - loss: 0.5323 - acc: 0.8478 - val_loss: 1.6489 - val_acc: 0.4864\n",
      "Epoch 49/50\n",
      "50000/50000 [==============================] - 7s 139us/step - loss: 0.5147 - acc: 0.8530 - val_loss: 1.6608 - val_acc: 0.4899\n",
      "Epoch 50/50\n",
      "50000/50000 [==============================] - 7s 140us/step - loss: 0.4982 - acc: 0.8599 - val_loss: 1.6907 - val_acc: 0.4824\n"
     ]
    },
    {
     "data": {
      "image/png": "[encoded data removed]",
      "text/plain": [
       "<Figure size 576x432 with 1 Axes>"
      ]
     },
     "metadata": {
      "needs_background": "light"
     },
     "output_type": "display_data"
    },
    {
     "data": {
      "image/png": "[encoded data removed]",
      "text/plain": [
       "<Figure size 576x432 with 1 Axes>"
      ]
     },
     "metadata": {
      "needs_background": "light"
     },
     "output_type": "display_data"
    }
   ],
   "source": [
    "# 載入 Callbacks\n",
    "from keras.callbacks import ModelCheckpoint\n",
    "\n",
    "SAVE_BEST_ONLY = [True, False]\n",
    "\n",
    "results = {}\n",
    "for save_best_only in SAVE_BEST_ONLY:\n",
    "    model_ckpt = ModelCheckpoint(filepath=\"./tmp.h5\", \n",
    "                                 monitor=\"val_loss\", \n",
    "                                 save_best_only=save_best_only)\n",
    "    name = \"save_best_only-{0}\".format(save_best_only)\n",
    "    mlp_compile(name=name, model_ckpt=model_ckpt, results=results)\n",
    "\n",
    "plotGraph(results)"
   ]
  },
  {
   "cell_type": "markdown",
   "metadata": {},
   "source": [
    "## 請僅存入將 save_weights_only 設定為 True, 並嘗試 reset ipynb 並將模型與權重重新建回並預測 x_test"
   ]
  },
  {
   "cell_type": "code",
   "execution_count": 10,
   "metadata": {
    "scrolled": false
   },
   "outputs": [
    {
     "name": "stdout",
     "output_type": "stream",
     "text": [
      "Experiment with save_weights_only\n",
      "_________________________________________________________________\n",
      "Layer (type)                 Output Shape              Param #   \n",
      "=================================================================\n",
      "input_1 (InputLayer)         (None, 3072)              0         \n",
      "_________________________________________________________________\n",
      "hidden_layer1 (Dense)        (None, 512)               1573376   \n",
      "_________________________________________________________________\n",
      "batch_normalization_1 (Batch (None, 512)               2048      \n",
      "_________________________________________________________________\n",
      "hidden_layer2 (Dense)        (None, 256)               131328    \n",
      "_________________________________________________________________\n",
      "batch_normalization_2 (Batch (None, 256)               1024      \n",
      "_________________________________________________________________\n",
      "hidden_layer3 (Dense)        (None, 128)               32896     \n",
      "_________________________________________________________________\n",
      "batch_normalization_3 (Batch (None, 128)               512       \n",
      "_________________________________________________________________\n",
      "output (Dense)               (None, 10)                1290      \n",
      "=================================================================\n",
      "Total params: 1,742,474\n",
      "Trainable params: 1,740,682\n",
      "Non-trainable params: 1,792\n",
      "_________________________________________________________________\n",
      "Train on 50000 samples, validate on 10000 samples\n",
      "Epoch 1/50\n",
      "50000/50000 [==============================] - 8s 156us/step - loss: 2.2243 - acc: 0.2718 - val_loss: 2.1729 - val_acc: 0.3115\n",
      "Epoch 2/50\n",
      "50000/50000 [==============================] - 7s 133us/step - loss: 1.7536 - acc: 0.3922 - val_loss: 1.8276 - val_acc: 0.3784\n",
      "Epoch 3/50\n",
      "50000/50000 [==============================] - 7s 135us/step - loss: 1.6214 - acc: 0.4363 - val_loss: 1.6988 - val_acc: 0.4087\n",
      "Epoch 4/50\n",
      "50000/50000 [==============================] - 7s 143us/step - loss: 1.5460 - acc: 0.4608 - val_loss: 1.6418 - val_acc: 0.4312\n",
      "Epoch 5/50\n",
      "50000/50000 [==============================] - 7s 136us/step - loss: 1.4878 - acc: 0.4831 - val_loss: 1.6042 - val_acc: 0.4300\n",
      "Epoch 6/50\n",
      "50000/50000 [==============================] - 7s 147us/step - loss: 1.4419 - acc: 0.4955 - val_loss: 1.5656 - val_acc: 0.4503\n",
      "Epoch 7/50\n",
      "50000/50000 [==============================] - 7s 144us/step - loss: 1.4004 - acc: 0.5121 - val_loss: 1.5488 - val_acc: 0.4571\n",
      "Epoch 8/50\n",
      "50000/50000 [==============================] - 7s 137us/step - loss: 1.3649 - acc: 0.5261 - val_loss: 1.5618 - val_acc: 0.4521\n",
      "Epoch 9/50\n",
      "50000/50000 [==============================] - 7s 141us/step - loss: 1.3309 - acc: 0.5367 - val_loss: 1.5159 - val_acc: 0.4664\n",
      "Epoch 10/50\n",
      "50000/50000 [==============================] - 7s 143us/step - loss: 1.3003 - acc: 0.5492 - val_loss: 1.5073 - val_acc: 0.4761\n",
      "Epoch 11/50\n",
      "50000/50000 [==============================] - 7s 147us/step - loss: 1.2679 - acc: 0.5606 - val_loss: 1.5052 - val_acc: 0.4684\n",
      "Epoch 12/50\n",
      "50000/50000 [==============================] - 7s 136us/step - loss: 1.2419 - acc: 0.5695 - val_loss: 1.4822 - val_acc: 0.4819\n",
      "Epoch 13/50\n",
      "50000/50000 [==============================] - 7s 141us/step - loss: 1.2159 - acc: 0.5800 - val_loss: 1.4738 - val_acc: 0.4815\n",
      "Epoch 14/50\n",
      "50000/50000 [==============================] - 7s 130us/step - loss: 1.1881 - acc: 0.5879 - val_loss: 1.4784 - val_acc: 0.4829\n",
      "Epoch 15/50\n",
      "50000/50000 [==============================] - 7s 142us/step - loss: 1.1640 - acc: 0.5991 - val_loss: 1.4739 - val_acc: 0.4857\n",
      "Epoch 16/50\n",
      " 3072/50000 [>.............................] - ETA: 6s - loss: 1.1176 - acc: 0.6022"
     ]
    },
    {
     "ename": "KeyboardInterrupt",
     "evalue": "",
     "output_type": "error",
     "traceback": [
      "\u001b[0;31m---------------------------------------------------------------------------\u001b[0m",
      "\u001b[0;31mKeyboardInterrupt\u001b[0m                         Traceback (most recent call last)",
      "\u001b[0;32m<ipython-input-10-1d110f29ba31>\u001b[0m in \u001b[0;36m<module>\u001b[0;34m\u001b[0m\n\u001b[1;32m      8\u001b[0m                              save_weights_only=True)\n\u001b[1;32m      9\u001b[0m \u001b[0mname\u001b[0m \u001b[0;34m=\u001b[0m \u001b[0;34m\"save_weights_only\"\u001b[0m\u001b[0;34m\u001b[0m\u001b[0m\n\u001b[0;32m---> 10\u001b[0;31m \u001b[0mmlp_compile\u001b[0m\u001b[0;34m(\u001b[0m\u001b[0mname\u001b[0m\u001b[0;34m=\u001b[0m\u001b[0mname\u001b[0m\u001b[0;34m,\u001b[0m \u001b[0mmodel_ckpt\u001b[0m\u001b[0;34m=\u001b[0m\u001b[0mmodel_ckpt\u001b[0m\u001b[0;34m,\u001b[0m \u001b[0mresults\u001b[0m\u001b[0;34m=\u001b[0m\u001b[0mresults\u001b[0m\u001b[0;34m)\u001b[0m\u001b[0;34m\u001b[0m\u001b[0m\n\u001b[0m",
      "\u001b[0;32m<ipython-input-7-a66deb7efa39>\u001b[0m in \u001b[0;36mmlp_compile\u001b[0;34m(model_ckpt, name, Batch_Size, results)\u001b[0m\n\u001b[1;32m     13\u001b[0m           \u001b[0mvalidation_data\u001b[0m\u001b[0;34m=\u001b[0m\u001b[0;34m(\u001b[0m\u001b[0mx_test\u001b[0m\u001b[0;34m,\u001b[0m \u001b[0my_test\u001b[0m\u001b[0;34m)\u001b[0m\u001b[0;34m,\u001b[0m\u001b[0;34m\u001b[0m\u001b[0m\n\u001b[1;32m     14\u001b[0m           \u001b[0mshuffle\u001b[0m\u001b[0;34m=\u001b[0m\u001b[0;32mTrue\u001b[0m\u001b[0;34m,\u001b[0m\u001b[0;34m\u001b[0m\u001b[0m\n\u001b[0;32m---> 15\u001b[0;31m           \u001b[0mcallbacks\u001b[0m\u001b[0;34m=\u001b[0m\u001b[0;34m[\u001b[0m\u001b[0mmodel_ckpt\u001b[0m\u001b[0;34m]\u001b[0m\u001b[0;34m\u001b[0m\u001b[0m\n\u001b[0m\u001b[1;32m     16\u001b[0m          )\n\u001b[1;32m     17\u001b[0m \u001b[0;34m\u001b[0m\u001b[0m\n",
      "\u001b[0;32m/usr/local/lib/python3.7/site-packages/keras/engine/training.py\u001b[0m in \u001b[0;36mfit\u001b[0;34m(self, x, y, batch_size, epochs, verbose, callbacks, validation_split, validation_data, shuffle, class_weight, sample_weight, initial_epoch, steps_per_epoch, validation_steps, **kwargs)\u001b[0m\n\u001b[1;32m   1037\u001b[0m                                         \u001b[0minitial_epoch\u001b[0m\u001b[0;34m=\u001b[0m\u001b[0minitial_epoch\u001b[0m\u001b[0;34m,\u001b[0m\u001b[0;34m\u001b[0m\u001b[0m\n\u001b[1;32m   1038\u001b[0m                                         \u001b[0msteps_per_epoch\u001b[0m\u001b[0;34m=\u001b[0m\u001b[0msteps_per_epoch\u001b[0m\u001b[0;34m,\u001b[0m\u001b[0;34m\u001b[0m\u001b[0m\n\u001b[0;32m-> 1039\u001b[0;31m                                         validation_steps=validation_steps)\n\u001b[0m\u001b[1;32m   1040\u001b[0m \u001b[0;34m\u001b[0m\u001b[0m\n\u001b[1;32m   1041\u001b[0m     def evaluate(self, x=None, y=None,\n",
      "\u001b[0;32m/usr/local/lib/python3.7/site-packages/keras/engine/training_arrays.py\u001b[0m in \u001b[0;36mfit_loop\u001b[0;34m(model, f, ins, out_labels, batch_size, epochs, verbose, callbacks, val_f, val_ins, shuffle, callback_metrics, initial_epoch, steps_per_epoch, validation_steps)\u001b[0m\n\u001b[1;32m    197\u001b[0m                     \u001b[0mins_batch\u001b[0m\u001b[0;34m[\u001b[0m\u001b[0mi\u001b[0m\u001b[0;34m]\u001b[0m \u001b[0;34m=\u001b[0m \u001b[0mins_batch\u001b[0m\u001b[0;34m[\u001b[0m\u001b[0mi\u001b[0m\u001b[0;34m]\u001b[0m\u001b[0;34m.\u001b[0m\u001b[0mtoarray\u001b[0m\u001b[0;34m(\u001b[0m\u001b[0;34m)\u001b[0m\u001b[0;34m\u001b[0m\u001b[0m\n\u001b[1;32m    198\u001b[0m \u001b[0;34m\u001b[0m\u001b[0m\n\u001b[0;32m--> 199\u001b[0;31m                 \u001b[0mouts\u001b[0m \u001b[0;34m=\u001b[0m \u001b[0mf\u001b[0m\u001b[0;34m(\u001b[0m\u001b[0mins_batch\u001b[0m\u001b[0;34m)\u001b[0m\u001b[0;34m\u001b[0m\u001b[0m\n\u001b[0m\u001b[1;32m    200\u001b[0m                 \u001b[0mouts\u001b[0m \u001b[0;34m=\u001b[0m \u001b[0mto_list\u001b[0m\u001b[0;34m(\u001b[0m\u001b[0mouts\u001b[0m\u001b[0;34m)\u001b[0m\u001b[0;34m\u001b[0m\u001b[0m\n\u001b[1;32m    201\u001b[0m                 \u001b[0;32mfor\u001b[0m \u001b[0ml\u001b[0m\u001b[0;34m,\u001b[0m \u001b[0mo\u001b[0m \u001b[0;32min\u001b[0m \u001b[0mzip\u001b[0m\u001b[0;34m(\u001b[0m\u001b[0mout_labels\u001b[0m\u001b[0;34m,\u001b[0m \u001b[0mouts\u001b[0m\u001b[0;34m)\u001b[0m\u001b[0;34m:\u001b[0m\u001b[0;34m\u001b[0m\u001b[0m\n",
      "\u001b[0;32m/usr/local/lib/python3.7/site-packages/keras/backend/tensorflow_backend.py\u001b[0m in \u001b[0;36m__call__\u001b[0;34m(self, inputs)\u001b[0m\n\u001b[1;32m   2713\u001b[0m                 \u001b[0;32mreturn\u001b[0m \u001b[0mself\u001b[0m\u001b[0;34m.\u001b[0m\u001b[0m_legacy_call\u001b[0m\u001b[0;34m(\u001b[0m\u001b[0minputs\u001b[0m\u001b[0;34m)\u001b[0m\u001b[0;34m\u001b[0m\u001b[0m\n\u001b[1;32m   2714\u001b[0m \u001b[0;34m\u001b[0m\u001b[0m\n\u001b[0;32m-> 2715\u001b[0;31m             \u001b[0;32mreturn\u001b[0m \u001b[0mself\u001b[0m\u001b[0;34m.\u001b[0m\u001b[0m_call\u001b[0m\u001b[0;34m(\u001b[0m\u001b[0minputs\u001b[0m\u001b[0;34m)\u001b[0m\u001b[0;34m\u001b[0m\u001b[0m\n\u001b[0m\u001b[1;32m   2716\u001b[0m         \u001b[0;32melse\u001b[0m\u001b[0;34m:\u001b[0m\u001b[0;34m\u001b[0m\u001b[0m\n\u001b[1;32m   2717\u001b[0m             \u001b[0;32mif\u001b[0m \u001b[0mpy_any\u001b[0m\u001b[0;34m(\u001b[0m\u001b[0mis_tensor\u001b[0m\u001b[0;34m(\u001b[0m\u001b[0mx\u001b[0m\u001b[0;34m)\u001b[0m \u001b[0;32mfor\u001b[0m \u001b[0mx\u001b[0m \u001b[0;32min\u001b[0m \u001b[0minputs\u001b[0m\u001b[0;34m)\u001b[0m\u001b[0;34m:\u001b[0m\u001b[0;34m\u001b[0m\u001b[0m\n",
      "\u001b[0;32m/usr/local/lib/python3.7/site-packages/keras/backend/tensorflow_backend.py\u001b[0m in \u001b[0;36m_call\u001b[0;34m(self, inputs)\u001b[0m\n\u001b[1;32m   2673\u001b[0m             \u001b[0mfetched\u001b[0m \u001b[0;34m=\u001b[0m \u001b[0mself\u001b[0m\u001b[0;34m.\u001b[0m\u001b[0m_callable_fn\u001b[0m\u001b[0;34m(\u001b[0m\u001b[0;34m*\u001b[0m\u001b[0marray_vals\u001b[0m\u001b[0;34m,\u001b[0m \u001b[0mrun_metadata\u001b[0m\u001b[0;34m=\u001b[0m\u001b[0mself\u001b[0m\u001b[0;34m.\u001b[0m\u001b[0mrun_metadata\u001b[0m\u001b[0;34m)\u001b[0m\u001b[0;34m\u001b[0m\u001b[0m\n\u001b[1;32m   2674\u001b[0m         \u001b[0;32melse\u001b[0m\u001b[0;34m:\u001b[0m\u001b[0;34m\u001b[0m\u001b[0m\n\u001b[0;32m-> 2675\u001b[0;31m             \u001b[0mfetched\u001b[0m \u001b[0;34m=\u001b[0m \u001b[0mself\u001b[0m\u001b[0;34m.\u001b[0m\u001b[0m_callable_fn\u001b[0m\u001b[0;34m(\u001b[0m\u001b[0;34m*\u001b[0m\u001b[0marray_vals\u001b[0m\u001b[0;34m)\u001b[0m\u001b[0;34m\u001b[0m\u001b[0m\n\u001b[0m\u001b[1;32m   2676\u001b[0m         \u001b[0;32mreturn\u001b[0m \u001b[0mfetched\u001b[0m\u001b[0;34m[\u001b[0m\u001b[0;34m:\u001b[0m\u001b[0mlen\u001b[0m\u001b[0;34m(\u001b[0m\u001b[0mself\u001b[0m\u001b[0;34m.\u001b[0m\u001b[0moutputs\u001b[0m\u001b[0;34m)\u001b[0m\u001b[0;34m]\u001b[0m\u001b[0;34m\u001b[0m\u001b[0m\n\u001b[1;32m   2677\u001b[0m \u001b[0;34m\u001b[0m\u001b[0m\n",
      "\u001b[0;32m/usr/local/lib/python3.7/site-packages/tensorflow/python/client/session.py\u001b[0m in \u001b[0;36m__call__\u001b[0;34m(self, *args, **kwargs)\u001b[0m\n\u001b[1;32m   1437\u001b[0m           ret = tf_session.TF_SessionRunCallable(\n\u001b[1;32m   1438\u001b[0m               \u001b[0mself\u001b[0m\u001b[0;34m.\u001b[0m\u001b[0m_session\u001b[0m\u001b[0;34m.\u001b[0m\u001b[0m_session\u001b[0m\u001b[0;34m,\u001b[0m \u001b[0mself\u001b[0m\u001b[0;34m.\u001b[0m\u001b[0m_handle\u001b[0m\u001b[0;34m,\u001b[0m \u001b[0margs\u001b[0m\u001b[0;34m,\u001b[0m \u001b[0mstatus\u001b[0m\u001b[0;34m,\u001b[0m\u001b[0;34m\u001b[0m\u001b[0m\n\u001b[0;32m-> 1439\u001b[0;31m               run_metadata_ptr)\n\u001b[0m\u001b[1;32m   1440\u001b[0m         \u001b[0;32mif\u001b[0m \u001b[0mrun_metadata\u001b[0m\u001b[0;34m:\u001b[0m\u001b[0;34m\u001b[0m\u001b[0m\n\u001b[1;32m   1441\u001b[0m           \u001b[0mproto_data\u001b[0m \u001b[0;34m=\u001b[0m \u001b[0mtf_session\u001b[0m\u001b[0;34m.\u001b[0m\u001b[0mTF_GetBuffer\u001b[0m\u001b[0;34m(\u001b[0m\u001b[0mrun_metadata_ptr\u001b[0m\u001b[0;34m)\u001b[0m\u001b[0;34m\u001b[0m\u001b[0m\n",
      "\u001b[0;31mKeyboardInterrupt\u001b[0m: "
     ]
    }
   ],
   "source": [
    "# 載入 Callbacks\n",
    "from keras.callbacks import ModelCheckpoint\n",
    "\n",
    "results = {}\n",
    "model_ckpt = ModelCheckpoint(filepath=\"./tmp2.h5\", \n",
    "                             monitor=\"val_loss\", \n",
    "                             save_best_only=True,\n",
    "                             save_weights_only=True)\n",
    "name = \"save_weights_only\"\n",
    "mlp_compile(name=name, model_ckpt=model_ckpt, results=results)"
   ]
  },
  {
   "cell_type": "code",
   "execution_count": 22,
   "metadata": {},
   "outputs": [
    {
     "name": "stdout",
     "output_type": "stream",
     "text": [
      "_________________________________________________________________\n",
      "Layer (type)                 Output Shape              Param #   \n",
      "=================================================================\n",
      "input_7 (InputLayer)         (None, 3072)              0         \n",
      "_________________________________________________________________\n",
      "hidden_layer1 (Dense)        (None, 512)               1573376   \n",
      "_________________________________________________________________\n",
      "batch_normalization_19 (Batc (None, 512)               2048      \n",
      "_________________________________________________________________\n",
      "hidden_layer2 (Dense)        (None, 256)               131328    \n",
      "_________________________________________________________________\n",
      "batch_normalization_20 (Batc (None, 256)               1024      \n",
      "_________________________________________________________________\n",
      "hidden_layer3 (Dense)        (None, 128)               32896     \n",
      "_________________________________________________________________\n",
      "batch_normalization_21 (Batc (None, 128)               512       \n",
      "_________________________________________________________________\n",
      "output (Dense)               (None, 10)                1290      \n",
      "=================================================================\n",
      "Total params: 1,742,474\n",
      "Trainable params: 1,740,682\n",
      "Non-trainable params: 1,792\n",
      "_________________________________________________________________\n",
      "10000/10000 [==============================] - 1s 142us/step\n"
     ]
    }
   ],
   "source": [
    "# Load back\n",
    "model = build_mlp(input_shape=x_train.shape[1:])\n",
    "model.summary()\n",
    "\n",
    "model.load_weights(\"./tmp2.h5\", by_name = True)\n",
    "\n",
    "optimizer = keras.optimizers.SGD(lr=LEARNING_RATE, nesterov=True, momentum=MOMENTUM)\n",
    "model.compile(loss=\"categorical_crossentropy\", metrics=[\"accuracy\"], optimizer=optimizer)\n",
    "\n",
    "loss_loadback, acc_loadback = model.evaluate(x_test, y_test)"
   ]
  },
  {
   "cell_type": "code",
   "execution_count": 24,
   "metadata": {},
   "outputs": [
    {
     "name": "stderr",
     "output_type": "stream",
     "text": [
      "No handles with labels found to put in legend.\n"
     ]
    },
    {
     "data": {
      "image/png": "[encoded data removed]",
      "text/plain": [
       "<Figure size 432x288 with 1 Axes>"
      ]
     },
     "metadata": {
      "needs_background": "light"
     },
     "output_type": "display_data"
    },
    {
     "name": "stderr",
     "output_type": "stream",
     "text": [
      "No handles with labels found to put in legend.\n"
     ]
    },
    {
     "data": {
      "image/png": "[encoded data removed]",
      "text/plain": [
       "<Figure size 432x288 with 1 Axes>"
      ]
     },
     "metadata": {
      "needs_background": "light"
     },
     "output_type": "display_data"
    }
   ],
   "source": [
    "import matplotlib.pyplot as plt\n",
    "%matplotlib inline\n",
    "\n",
    "plt.hlines(y=loss_loadback, xmin=0, xmax=len(y_test), colors='r', linestyles='--')\n",
    "plt.legend()\n",
    "plt.title(\"Loss\")\n",
    "plt.show()\n",
    "\n",
    "plt.hlines(y=acc_loadback, xmin=0, xmax=len(y_test), colors='r', linestyles='--')\n",
    "plt.legend()\n",
    "plt.title(\"Accuracy\")\n",
    "plt.show()"
   ]
  },
  {
   "cell_type": "code",
   "execution_count": null,
   "metadata": {},
   "outputs": [],
   "source": []
  }
 ],
 "metadata": {
  "anaconda-cloud": {},
  "kernelspec": {
   "display_name": "Python 3",
   "language": "python",
   "name": "python3"
  },
  "language_info": {
   "codemirror_mode": {
    "name": "ipython",
    "version": 3
   },
   "file_extension": ".py",
   "mimetype": "text/x-python",
   "name": "python",
   "nbconvert_exporter": "python",
   "pygments_lexer": "ipython3",
   "version": "3.7.0"
  }
 },
 "nbformat": 4,
 "nbformat_minor": 2
}
