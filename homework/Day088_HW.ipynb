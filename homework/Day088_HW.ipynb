{
 "cells": [
  {
   "cell_type": "markdown",
   "metadata": {},
   "source": [
    "## Work\n",
    "1. 請嘗試寫一個 callback 用來記錄各類別在訓練過程中，對驗證集的 True Positive 與 True Negative"
   ]
  },
  {
   "cell_type": "code",
   "execution_count": 1,
   "metadata": {},
   "outputs": [
    {
     "name": "stderr",
     "output_type": "stream",
     "text": [
      "Using TensorFlow backend.\n"
     ]
    }
   ],
   "source": [
    "import os\n",
    "import keras\n",
    "from sklearn.metrics import confusion_matrix\n",
    "\n",
    "# Disable GPU\n",
    "os.environ[\"CUDA_VISIBLE_DEVICES\"] = \"\""
   ]
  },
  {
   "cell_type": "code",
   "execution_count": 2,
   "metadata": {},
   "outputs": [],
   "source": [
    "train, test = keras.datasets.cifar10.load_data()"
   ]
  },
  {
   "cell_type": "code",
   "execution_count": 3,
   "metadata": {},
   "outputs": [],
   "source": [
    "## 資料前處理\n",
    "def preproc_x(x, flatten=True):\n",
    "    x = x / 255.\n",
    "    if flatten:\n",
    "        x = x.reshape((len(x), -1))\n",
    "    return x\n",
    "\n",
    "def preproc_y(y, num_classes=10):\n",
    "    if y.shape[-1] == 1:\n",
    "        y = keras.utils.to_categorical(y, num_classes)\n",
    "    return y    "
   ]
  },
  {
   "cell_type": "code",
   "execution_count": 4,
   "metadata": {},
   "outputs": [],
   "source": [
    "x_train, y_train = train\n",
    "x_test, y_test = test\n",
    "\n",
    "# Preproc the inputs\n",
    "x_train = preproc_x(x_train)\n",
    "x_test = preproc_x(x_test)\n",
    "\n",
    "# Preprc the outputs\n",
    "y_train = preproc_y(y_train)\n",
    "y_test = preproc_y(y_test)"
   ]
  },
  {
   "cell_type": "code",
   "execution_count": 5,
   "metadata": {},
   "outputs": [],
   "source": [
    "from keras.layers import BatchNormalization\n",
    "def build_mlp(input_shape, output_units=10, num_neurons=[512, 256, 128]):\n",
    "    input_layer = keras.layers.Input(input_shape)\n",
    "    \n",
    "    for i, n_units in enumerate(num_neurons):\n",
    "        if i == 0:\n",
    "            x = keras.layers.Dense(units=n_units, \n",
    "                                   activation=\"relu\", \n",
    "                                   name=\"hidden_layer\"+str(i+1))(input_layer)\n",
    "            x = BatchNormalization()(x)\n",
    "        else:\n",
    "            x = keras.layers.Dense(units=n_units, \n",
    "                                   activation=\"relu\", \n",
    "                                   name=\"hidden_layer\"+str(i+1))(x)\n",
    "            x = BatchNormalization()(x)\n",
    "    \n",
    "    out = keras.layers.Dense(units=output_units, activation=\"softmax\", name=\"output\")(x)\n",
    "    \n",
    "    model = keras.models.Model(inputs=[input_layer], outputs=[out])\n",
    "    return model"
   ]
  },
  {
   "cell_type": "code",
   "execution_count": 6,
   "metadata": {},
   "outputs": [],
   "source": [
    "## 超參數設定\n",
    "LEARNING_RATE = 1e-3\n",
    "EPOCHS = 25\n",
    "BATCH_SIZE = 1024\n",
    "MOMENTUM = 0.95"
   ]
  },
  {
   "cell_type": "code",
   "execution_count": 7,
   "metadata": {},
   "outputs": [],
   "source": [
    "# 載入 Callbacks\n",
    "from keras.callbacks import Callback\n",
    "\n",
    "\n",
    "# Record_fp_tp\n",
    "class Record_tp_tn(Callback):\n",
    "    def on_train_begin(self, epoch, logs = {}):\n",
    "        logs = logs or {}\n",
    "        record_items = [\"val_auc\", \"val_f1sc\", \"val_fp\", \"val_fn\", \"val_tp\", \"val_tn\"]\n",
    "        for i in record_items:\n",
    "            if i not in self.params['metrics']:\n",
    "                self.params['metrics'].append(i)\n",
    "    \n",
    "    def on_epoch_end(self, epoch, logs = {}, thres=0.5):\n",
    "        logs = logs or {}\n",
    "        y_true = self.validation_data[1].argmax(axis = 1)\n",
    "        y_pred = self.model.predict(self.validation_data[0])\n",
    "        y_pred = (y_pred[:, 1] >= thres) * 1\n",
    "        \n",
    "        cm = confusion_matrix(y_true, y_pred)\n",
    "        logs['val_tp'] = cm[0][0]\n",
    "        logs['val_tn'] = cm[1][1]\n",
    "        \n",
    "rec_tptn = Record_tp_tn()"
   ]
  },
  {
   "cell_type": "code",
   "execution_count": 8,
   "metadata": {
    "scrolled": true
   },
   "outputs": [
    {
     "name": "stdout",
     "output_type": "stream",
     "text": [
      "WARNING:tensorflow:From /usr/local/lib/python3.7/site-packages/tensorflow/python/framework/op_def_library.py:263: colocate_with (from tensorflow.python.framework.ops) is deprecated and will be removed in a future version.\n",
      "Instructions for updating:\n",
      "Colocations handled automatically by placer.\n",
      "_________________________________________________________________\n",
      "Layer (type)                 Output Shape              Param #   \n",
      "=================================================================\n",
      "input_1 (InputLayer)         (None, 3072)              0         \n",
      "_________________________________________________________________\n",
      "hidden_layer1 (Dense)        (None, 512)               1573376   \n",
      "_________________________________________________________________\n",
      "batch_normalization_1 (Batch (None, 512)               2048      \n",
      "_________________________________________________________________\n",
      "hidden_layer2 (Dense)        (None, 256)               131328    \n",
      "_________________________________________________________________\n",
      "batch_normalization_2 (Batch (None, 256)               1024      \n",
      "_________________________________________________________________\n",
      "hidden_layer3 (Dense)        (None, 128)               32896     \n",
      "_________________________________________________________________\n",
      "batch_normalization_3 (Batch (None, 128)               512       \n",
      "_________________________________________________________________\n",
      "output (Dense)               (None, 10)                1290      \n",
      "=================================================================\n",
      "Total params: 1,742,474\n",
      "Trainable params: 1,740,682\n",
      "Non-trainable params: 1,792\n",
      "_________________________________________________________________\n",
      "WARNING:tensorflow:From /usr/local/lib/python3.7/site-packages/tensorflow/python/ops/math_ops.py:3066: to_int32 (from tensorflow.python.ops.math_ops) is deprecated and will be removed in a future version.\n",
      "Instructions for updating:\n",
      "Use tf.cast instead.\n",
      "Train on 50000 samples, validate on 10000 samples\n",
      "Epoch 1/25\n",
      "50000/50000 [==============================] - 9s 176us/step - loss: 2.2157 - acc: 0.2711 - val_loss: 2.1424 - val_acc: 0.3083\n",
      "Epoch 2/25\n",
      "50000/50000 [==============================] - 8s 150us/step - loss: 1.7475 - acc: 0.3891 - val_loss: 1.8021 - val_acc: 0.3750\n",
      "Epoch 3/25\n",
      "50000/50000 [==============================] - 7s 140us/step - loss: 1.6182 - acc: 0.4342 - val_loss: 1.6934 - val_acc: 0.4171\n",
      "Epoch 4/25\n",
      "50000/50000 [==============================] - 8s 152us/step - loss: 1.5447 - acc: 0.4581 - val_loss: 1.6364 - val_acc: 0.4314\n",
      "Epoch 5/25\n",
      "50000/50000 [==============================] - 7s 135us/step - loss: 1.4893 - acc: 0.4783 - val_loss: 1.5953 - val_acc: 0.4460\n",
      "Epoch 6/25\n",
      "50000/50000 [==============================] - 8s 156us/step - loss: 1.4448 - acc: 0.4948 - val_loss: 1.5609 - val_acc: 0.4546\n",
      "Epoch 7/25\n",
      "50000/50000 [==============================] - 7s 146us/step - loss: 1.4059 - acc: 0.5085 - val_loss: 1.5427 - val_acc: 0.4608\n",
      "Epoch 8/25\n",
      "50000/50000 [==============================] - 8s 153us/step - loss: 1.3722 - acc: 0.5206 - val_loss: 1.5248 - val_acc: 0.4617\n",
      "Epoch 9/25\n",
      "50000/50000 [==============================] - 7s 139us/step - loss: 1.3411 - acc: 0.5330 - val_loss: 1.5095 - val_acc: 0.4741\n",
      "Epoch 10/25\n",
      "50000/50000 [==============================] - 7s 140us/step - loss: 1.3089 - acc: 0.5453 - val_loss: 1.4985 - val_acc: 0.4797\n",
      "Epoch 11/25\n",
      "50000/50000 [==============================] - 7s 135us/step - loss: 1.2798 - acc: 0.5549 - val_loss: 1.4809 - val_acc: 0.4762\n",
      "Epoch 12/25\n",
      "50000/50000 [==============================] - 7s 131us/step - loss: 1.2523 - acc: 0.5655 - val_loss: 1.4773 - val_acc: 0.4824\n",
      "Epoch 13/25\n",
      "50000/50000 [==============================] - 7s 132us/step - loss: 1.2274 - acc: 0.5748 - val_loss: 1.4756 - val_acc: 0.4841\n",
      "Epoch 14/25\n",
      "50000/50000 [==============================] - 6s 129us/step - loss: 1.2026 - acc: 0.5838 - val_loss: 1.4687 - val_acc: 0.4890\n",
      "Epoch 15/25\n",
      "50000/50000 [==============================] - 7s 130us/step - loss: 1.1784 - acc: 0.5935 - val_loss: 1.4640 - val_acc: 0.4863\n",
      "Epoch 16/25\n",
      "50000/50000 [==============================] - 6s 129us/step - loss: 1.1543 - acc: 0.6035 - val_loss: 1.4667 - val_acc: 0.4887\n",
      "Epoch 17/25\n",
      "50000/50000 [==============================] - 6s 127us/step - loss: 1.1319 - acc: 0.6100 - val_loss: 1.4542 - val_acc: 0.4972\n",
      "Epoch 18/25\n",
      "50000/50000 [==============================] - 6s 130us/step - loss: 1.1080 - acc: 0.6204 - val_loss: 1.4563 - val_acc: 0.4900\n",
      "Epoch 19/25\n",
      "50000/50000 [==============================] - 6s 129us/step - loss: 1.0868 - acc: 0.6280 - val_loss: 1.4557 - val_acc: 0.4890\n",
      "Epoch 20/25\n",
      "50000/50000 [==============================] - 7s 136us/step - loss: 1.0647 - acc: 0.6375 - val_loss: 1.4614 - val_acc: 0.4905\n",
      "Epoch 21/25\n",
      "50000/50000 [==============================] - 7s 145us/step - loss: 1.0456 - acc: 0.6452 - val_loss: 1.4662 - val_acc: 0.4938\n",
      "Epoch 22/25\n",
      "50000/50000 [==============================] - 7s 144us/step - loss: 1.0258 - acc: 0.6523 - val_loss: 1.4590 - val_acc: 0.4921\n",
      "Epoch 23/25\n",
      "50000/50000 [==============================] - 7s 139us/step - loss: 1.0026 - acc: 0.6608 - val_loss: 1.4602 - val_acc: 0.4927\n",
      "Epoch 24/25\n",
      "50000/50000 [==============================] - 7s 149us/step - loss: 0.9815 - acc: 0.6690 - val_loss: 1.4705 - val_acc: 0.4966\n",
      "Epoch 25/25\n",
      "50000/50000 [==============================] - 8s 151us/step - loss: 0.9616 - acc: 0.6763 - val_loss: 1.4552 - val_acc: 0.5003\n"
     ]
    }
   ],
   "source": [
    "model = build_mlp(input_shape=x_train.shape[1:])\n",
    "model.summary()\n",
    "optimizer = keras.optimizers.SGD(lr=LEARNING_RATE, nesterov=True, momentum=MOMENTUM)\n",
    "model.compile(loss=\"categorical_crossentropy\", metrics=[\"accuracy\"], optimizer=optimizer)\n",
    "\n",
    "model.fit(x_train, y_train, \n",
    "          epochs=EPOCHS, \n",
    "          batch_size=BATCH_SIZE, \n",
    "          validation_data=(x_test, y_test), \n",
    "          shuffle=True,\n",
    "          callbacks=[rec_tptn]\n",
    "         )\n",
    "\n",
    "# Collect results\n",
    "train_loss = model.history.history[\"loss\"]\n",
    "valid_loss = model.history.history[\"val_loss\"]\n",
    "train_acc = model.history.history[\"acc\"]\n",
    "valid_acc = model.history.history[\"val_acc\"]\n",
    "\n",
    "\"\"\"\n",
    "To do:\n",
    "Collect tp/tn from model history\n",
    "\"\"\"\n",
    "valid_tp = model.history.history['val_tp']\n",
    "valid_tn = model.history.history['val_tn']"
   ]
  },
  {
   "cell_type": "code",
   "execution_count": 9,
   "metadata": {},
   "outputs": [
    {
     "data": {
      "image/png": "[encoded data removed]",
      "text/plain": [
       "<Figure size 432x288 with 1 Axes>"
      ]
     },
     "metadata": {
      "needs_background": "light"
     },
     "output_type": "display_data"
    },
    {
     "data": {
      "image/png": "[encoded data removed]",
      "text/plain": [
       "<Figure size 432x288 with 1 Axes>"
      ]
     },
     "metadata": {
      "needs_background": "light"
     },
     "output_type": "display_data"
    },
    {
     "data": {
      "image/png": "[encoded data removed]",
      "text/plain": [
       "<Figure size 432x288 with 1 Axes>"
      ]
     },
     "metadata": {
      "needs_background": "light"
     },
     "output_type": "display_data"
    }
   ],
   "source": [
    "import matplotlib.pyplot as plt\n",
    "%matplotlib inline\n",
    "\n",
    "plt.plot(range(len(train_loss)), train_loss, label=\"train loss\")\n",
    "plt.plot(range(len(valid_loss)), valid_loss, label=\"valid loss\")\n",
    "plt.legend()\n",
    "plt.title(\"Loss\")\n",
    "plt.show()\n",
    "\n",
    "plt.plot(range(len(train_acc)), train_acc, label=\"train accuracy\")\n",
    "plt.plot(range(len(valid_acc)), valid_acc, label=\"valid accuracy\")\n",
    "plt.legend()\n",
    "plt.title(\"Accuracy\")\n",
    "plt.show()\n",
    "\n",
    "plt.plot(range(len(valid_tp)), valid_tp, label=\"valid tp\", color=\"navy\")\n",
    "plt.plot(range(len(valid_tn)), valid_tn, label=\"valid tn\", color=\"red\")\n",
    "plt.legend()\n",
    "plt.title(\"True positives and True Negatives\")\n",
    "plt.show()\n"
   ]
  }
 ],
 "metadata": {
  "kernelspec": {
   "display_name": "Python 3",
   "language": "python",
   "name": "python3"
  },
  "language_info": {
   "codemirror_mode": {
    "name": "ipython",
    "version": 3
   },
   "file_extension": ".py",
   "mimetype": "text/x-python",
   "name": "python",
   "nbconvert_exporter": "python",
   "pygments_lexer": "ipython3",
   "version": "3.7.0"
  }
 },
 "nbformat": 4,
 "nbformat_minor": 2
}
